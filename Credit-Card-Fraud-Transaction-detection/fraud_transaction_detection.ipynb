{
  "nbformat": 4,
  "nbformat_minor": 0,
  "metadata": {
    "colab": {
      "name": "fraud_transaction_detection.ipynb",
      "provenance": [],
      "collapsed_sections": []
    },
    "kernelspec": {
      "name": "python3",
      "display_name": "Python 3"
    }
  },
  "cells": [
    {
      "cell_type": "markdown",
      "metadata": {
        "id": "2kVLul2S1DNu",
        "colab_type": "text"
      },
      "source": [
        "<h1><b>1. Importing required packages"
      ]
    },
    {
      "cell_type": "code",
      "metadata": {
        "id": "hwdWPI1ZBhrW",
        "colab_type": "code",
        "colab": {}
      },
      "source": [
        "import pandas as pd\n",
        "import numpy as np\n",
        "import seaborn as sns\n",
        "import matplotlib.pyplot as plt\n",
        "from datetime import datetime\n",
        "import warnings\n",
        "import tabletext\n",
        "warnings.filterwarnings(\"ignore\")\n",
        "\n",
        "from sklearn.preprocessing import StandardScaler\n",
        "from sklearn.model_selection import train_test_split\n",
        "\n",
        "from sklearn.dummy import DummyClassifier\n",
        "from sklearn.calibration import CalibratedClassifierCV\n",
        "\n",
        "from sklearn.metrics import precision_score,recall_score,f1_score\n",
        "from sklearn.metrics import precision_recall_curve,auc,plot_confusion_matrix\n",
        "\n",
        "from sklearn.linear_model import SGDClassifier\n",
        "from sklearn.ensemble import RandomForestClassifier\n",
        "from xgboost import XGBClassifier\n",
        "\n",
        "from sklearn.model_selection import RandomizedSearchCV\n",
        "from imblearn.over_sampling import SMOTE"
      ],
      "execution_count": null,
      "outputs": []
    },
    {
      "cell_type": "markdown",
      "metadata": {
        "id": "-YJlHqFN1R6-",
        "colab_type": "text"
      },
      "source": [
        "<h1><b>2. EDA"
      ]
    },
    {
      "cell_type": "markdown",
      "metadata": {
        "id": "8pAspfJQ7h9m",
        "colab_type": "text"
      },
      "source": [
        "<h2><b> 2.1 Reading data"
      ]
    },
    {
      "cell_type": "code",
      "metadata": {
        "id": "YT8gnnmaDO7T",
        "colab_type": "code",
        "colab": {}
      },
      "source": [
        "data = pd.read_csv(\"creditcard.csv\")"
      ],
      "execution_count": null,
      "outputs": []
    },
    {
      "cell_type": "code",
      "metadata": {
        "id": "imuQNYQtD77l",
        "colab_type": "code",
        "colab": {
          "base_uri": "https://localhost:8080/",
          "height": 224
        },
        "outputId": "20403557-89f3-403c-fa2e-eae4f2c9910d"
      },
      "source": [
        "data.head()"
      ],
      "execution_count": null,
      "outputs": [
        {
          "output_type": "execute_result",
          "data": {
            "text/html": [
              "<div>\n",
              "<style scoped>\n",
              "    .dataframe tbody tr th:only-of-type {\n",
              "        vertical-align: middle;\n",
              "    }\n",
              "\n",
              "    .dataframe tbody tr th {\n",
              "        vertical-align: top;\n",
              "    }\n",
              "\n",
              "    .dataframe thead th {\n",
              "        text-align: right;\n",
              "    }\n",
              "</style>\n",
              "<table border=\"1\" class=\"dataframe\">\n",
              "  <thead>\n",
              "    <tr style=\"text-align: right;\">\n",
              "      <th></th>\n",
              "      <th>Time</th>\n",
              "      <th>V1</th>\n",
              "      <th>V2</th>\n",
              "      <th>V3</th>\n",
              "      <th>V4</th>\n",
              "      <th>V5</th>\n",
              "      <th>V6</th>\n",
              "      <th>V7</th>\n",
              "      <th>V8</th>\n",
              "      <th>V9</th>\n",
              "      <th>V10</th>\n",
              "      <th>V11</th>\n",
              "      <th>V12</th>\n",
              "      <th>V13</th>\n",
              "      <th>V14</th>\n",
              "      <th>V15</th>\n",
              "      <th>V16</th>\n",
              "      <th>V17</th>\n",
              "      <th>V18</th>\n",
              "      <th>V19</th>\n",
              "      <th>V20</th>\n",
              "      <th>V21</th>\n",
              "      <th>V22</th>\n",
              "      <th>V23</th>\n",
              "      <th>V24</th>\n",
              "      <th>V25</th>\n",
              "      <th>V26</th>\n",
              "      <th>V27</th>\n",
              "      <th>V28</th>\n",
              "      <th>Amount</th>\n",
              "      <th>Class</th>\n",
              "    </tr>\n",
              "  </thead>\n",
              "  <tbody>\n",
              "    <tr>\n",
              "      <th>0</th>\n",
              "      <td>0.0</td>\n",
              "      <td>-1.359807</td>\n",
              "      <td>-0.072781</td>\n",
              "      <td>2.536347</td>\n",
              "      <td>1.378155</td>\n",
              "      <td>-0.338321</td>\n",
              "      <td>0.462388</td>\n",
              "      <td>0.239599</td>\n",
              "      <td>0.098698</td>\n",
              "      <td>0.363787</td>\n",
              "      <td>0.090794</td>\n",
              "      <td>-0.551600</td>\n",
              "      <td>-0.617801</td>\n",
              "      <td>-0.991390</td>\n",
              "      <td>-0.311169</td>\n",
              "      <td>1.468177</td>\n",
              "      <td>-0.470401</td>\n",
              "      <td>0.207971</td>\n",
              "      <td>0.025791</td>\n",
              "      <td>0.403993</td>\n",
              "      <td>0.251412</td>\n",
              "      <td>-0.018307</td>\n",
              "      <td>0.277838</td>\n",
              "      <td>-0.110474</td>\n",
              "      <td>0.066928</td>\n",
              "      <td>0.128539</td>\n",
              "      <td>-0.189115</td>\n",
              "      <td>0.133558</td>\n",
              "      <td>-0.021053</td>\n",
              "      <td>149.62</td>\n",
              "      <td>0</td>\n",
              "    </tr>\n",
              "    <tr>\n",
              "      <th>1</th>\n",
              "      <td>0.0</td>\n",
              "      <td>1.191857</td>\n",
              "      <td>0.266151</td>\n",
              "      <td>0.166480</td>\n",
              "      <td>0.448154</td>\n",
              "      <td>0.060018</td>\n",
              "      <td>-0.082361</td>\n",
              "      <td>-0.078803</td>\n",
              "      <td>0.085102</td>\n",
              "      <td>-0.255425</td>\n",
              "      <td>-0.166974</td>\n",
              "      <td>1.612727</td>\n",
              "      <td>1.065235</td>\n",
              "      <td>0.489095</td>\n",
              "      <td>-0.143772</td>\n",
              "      <td>0.635558</td>\n",
              "      <td>0.463917</td>\n",
              "      <td>-0.114805</td>\n",
              "      <td>-0.183361</td>\n",
              "      <td>-0.145783</td>\n",
              "      <td>-0.069083</td>\n",
              "      <td>-0.225775</td>\n",
              "      <td>-0.638672</td>\n",
              "      <td>0.101288</td>\n",
              "      <td>-0.339846</td>\n",
              "      <td>0.167170</td>\n",
              "      <td>0.125895</td>\n",
              "      <td>-0.008983</td>\n",
              "      <td>0.014724</td>\n",
              "      <td>2.69</td>\n",
              "      <td>0</td>\n",
              "    </tr>\n",
              "    <tr>\n",
              "      <th>2</th>\n",
              "      <td>1.0</td>\n",
              "      <td>-1.358354</td>\n",
              "      <td>-1.340163</td>\n",
              "      <td>1.773209</td>\n",
              "      <td>0.379780</td>\n",
              "      <td>-0.503198</td>\n",
              "      <td>1.800499</td>\n",
              "      <td>0.791461</td>\n",
              "      <td>0.247676</td>\n",
              "      <td>-1.514654</td>\n",
              "      <td>0.207643</td>\n",
              "      <td>0.624501</td>\n",
              "      <td>0.066084</td>\n",
              "      <td>0.717293</td>\n",
              "      <td>-0.165946</td>\n",
              "      <td>2.345865</td>\n",
              "      <td>-2.890083</td>\n",
              "      <td>1.109969</td>\n",
              "      <td>-0.121359</td>\n",
              "      <td>-2.261857</td>\n",
              "      <td>0.524980</td>\n",
              "      <td>0.247998</td>\n",
              "      <td>0.771679</td>\n",
              "      <td>0.909412</td>\n",
              "      <td>-0.689281</td>\n",
              "      <td>-0.327642</td>\n",
              "      <td>-0.139097</td>\n",
              "      <td>-0.055353</td>\n",
              "      <td>-0.059752</td>\n",
              "      <td>378.66</td>\n",
              "      <td>0</td>\n",
              "    </tr>\n",
              "    <tr>\n",
              "      <th>3</th>\n",
              "      <td>1.0</td>\n",
              "      <td>-0.966272</td>\n",
              "      <td>-0.185226</td>\n",
              "      <td>1.792993</td>\n",
              "      <td>-0.863291</td>\n",
              "      <td>-0.010309</td>\n",
              "      <td>1.247203</td>\n",
              "      <td>0.237609</td>\n",
              "      <td>0.377436</td>\n",
              "      <td>-1.387024</td>\n",
              "      <td>-0.054952</td>\n",
              "      <td>-0.226487</td>\n",
              "      <td>0.178228</td>\n",
              "      <td>0.507757</td>\n",
              "      <td>-0.287924</td>\n",
              "      <td>-0.631418</td>\n",
              "      <td>-1.059647</td>\n",
              "      <td>-0.684093</td>\n",
              "      <td>1.965775</td>\n",
              "      <td>-1.232622</td>\n",
              "      <td>-0.208038</td>\n",
              "      <td>-0.108300</td>\n",
              "      <td>0.005274</td>\n",
              "      <td>-0.190321</td>\n",
              "      <td>-1.175575</td>\n",
              "      <td>0.647376</td>\n",
              "      <td>-0.221929</td>\n",
              "      <td>0.062723</td>\n",
              "      <td>0.061458</td>\n",
              "      <td>123.50</td>\n",
              "      <td>0</td>\n",
              "    </tr>\n",
              "    <tr>\n",
              "      <th>4</th>\n",
              "      <td>2.0</td>\n",
              "      <td>-1.158233</td>\n",
              "      <td>0.877737</td>\n",
              "      <td>1.548718</td>\n",
              "      <td>0.403034</td>\n",
              "      <td>-0.407193</td>\n",
              "      <td>0.095921</td>\n",
              "      <td>0.592941</td>\n",
              "      <td>-0.270533</td>\n",
              "      <td>0.817739</td>\n",
              "      <td>0.753074</td>\n",
              "      <td>-0.822843</td>\n",
              "      <td>0.538196</td>\n",
              "      <td>1.345852</td>\n",
              "      <td>-1.119670</td>\n",
              "      <td>0.175121</td>\n",
              "      <td>-0.451449</td>\n",
              "      <td>-0.237033</td>\n",
              "      <td>-0.038195</td>\n",
              "      <td>0.803487</td>\n",
              "      <td>0.408542</td>\n",
              "      <td>-0.009431</td>\n",
              "      <td>0.798278</td>\n",
              "      <td>-0.137458</td>\n",
              "      <td>0.141267</td>\n",
              "      <td>-0.206010</td>\n",
              "      <td>0.502292</td>\n",
              "      <td>0.219422</td>\n",
              "      <td>0.215153</td>\n",
              "      <td>69.99</td>\n",
              "      <td>0</td>\n",
              "    </tr>\n",
              "  </tbody>\n",
              "</table>\n",
              "</div>"
            ],
            "text/plain": [
              "   Time        V1        V2        V3  ...       V27       V28  Amount  Class\n",
              "0   0.0 -1.359807 -0.072781  2.536347  ...  0.133558 -0.021053  149.62      0\n",
              "1   0.0  1.191857  0.266151  0.166480  ... -0.008983  0.014724    2.69      0\n",
              "2   1.0 -1.358354 -1.340163  1.773209  ... -0.055353 -0.059752  378.66      0\n",
              "3   1.0 -0.966272 -0.185226  1.792993  ...  0.062723  0.061458  123.50      0\n",
              "4   2.0 -1.158233  0.877737  1.548718  ...  0.219422  0.215153   69.99      0\n",
              "\n",
              "[5 rows x 31 columns]"
            ]
          },
          "metadata": {
            "tags": []
          },
          "execution_count": 5
        }
      ]
    },
    {
      "cell_type": "code",
      "metadata": {
        "id": "mBkAnj_BDVvm",
        "colab_type": "code",
        "colab": {
          "base_uri": "https://localhost:8080/",
          "height": 34
        },
        "outputId": "a0d1197e-d3d3-4847-dfa6-45da89b69c16"
      },
      "source": [
        "print(\"Shape of Data given :\",data.shape)"
      ],
      "execution_count": null,
      "outputs": [
        {
          "output_type": "stream",
          "text": [
            "Shape of Data given : (284807, 31)\n"
          ],
          "name": "stdout"
        }
      ]
    },
    {
      "cell_type": "code",
      "metadata": {
        "id": "mo1ZTSvfDZs2",
        "colab_type": "code",
        "colab": {
          "base_uri": "https://localhost:8080/",
          "height": 102
        },
        "outputId": "39436dfe-6a57-4d51-a791-860ccb5f6516"
      },
      "source": [
        "print(\"Columns present :\\n\\n\",data.columns.values)"
      ],
      "execution_count": null,
      "outputs": [
        {
          "output_type": "stream",
          "text": [
            "Columns present :\n",
            "\n",
            " ['Time' 'V1' 'V2' 'V3' 'V4' 'V5' 'V6' 'V7' 'V8' 'V9' 'V10' 'V11' 'V12'\n",
            " 'V13' 'V14' 'V15' 'V16' 'V17' 'V18' 'V19' 'V20' 'V21' 'V22' 'V23' 'V24'\n",
            " 'V25' 'V26' 'V27' 'V28' 'Amount' 'Class']\n"
          ],
          "name": "stdout"
        }
      ]
    },
    {
      "cell_type": "code",
      "metadata": {
        "id": "WzRnQq-FDdQz",
        "colab_type": "code",
        "colab": {
          "base_uri": "https://localhost:8080/",
          "height": 663
        },
        "outputId": "ee952808-d4ac-47c6-bf04-8c448190c402"
      },
      "source": [
        "data.info()"
      ],
      "execution_count": null,
      "outputs": [
        {
          "output_type": "stream",
          "text": [
            "<class 'pandas.core.frame.DataFrame'>\n",
            "RangeIndex: 284807 entries, 0 to 284806\n",
            "Data columns (total 31 columns):\n",
            " #   Column  Non-Null Count   Dtype  \n",
            "---  ------  --------------   -----  \n",
            " 0   Time    284807 non-null  float64\n",
            " 1   V1      284807 non-null  float64\n",
            " 2   V2      284807 non-null  float64\n",
            " 3   V3      284807 non-null  float64\n",
            " 4   V4      284807 non-null  float64\n",
            " 5   V5      284807 non-null  float64\n",
            " 6   V6      284807 non-null  float64\n",
            " 7   V7      284807 non-null  float64\n",
            " 8   V8      284807 non-null  float64\n",
            " 9   V9      284807 non-null  float64\n",
            " 10  V10     284807 non-null  float64\n",
            " 11  V11     284807 non-null  float64\n",
            " 12  V12     284807 non-null  float64\n",
            " 13  V13     284807 non-null  float64\n",
            " 14  V14     284807 non-null  float64\n",
            " 15  V15     284807 non-null  float64\n",
            " 16  V16     284807 non-null  float64\n",
            " 17  V17     284807 non-null  float64\n",
            " 18  V18     284807 non-null  float64\n",
            " 19  V19     284807 non-null  float64\n",
            " 20  V20     284807 non-null  float64\n",
            " 21  V21     284807 non-null  float64\n",
            " 22  V22     284807 non-null  float64\n",
            " 23  V23     284807 non-null  float64\n",
            " 24  V24     284807 non-null  float64\n",
            " 25  V25     284807 non-null  float64\n",
            " 26  V26     284807 non-null  float64\n",
            " 27  V27     284807 non-null  float64\n",
            " 28  V28     284807 non-null  float64\n",
            " 29  Amount  284807 non-null  float64\n",
            " 30  Class   284807 non-null  int64  \n",
            "dtypes: float64(30), int64(1)\n",
            "memory usage: 67.4 MB\n"
          ],
          "name": "stdout"
        }
      ]
    },
    {
      "cell_type": "markdown",
      "metadata": {
        "id": "FE2-3UtG3Iec",
        "colab_type": "text"
      },
      "source": [
        "<h3>So we can see all the columns has numerical data"
      ]
    },
    {
      "cell_type": "code",
      "metadata": {
        "id": "IxleYIi0DpFH",
        "colab_type": "code",
        "colab": {
          "base_uri": "https://localhost:8080/",
          "height": 317
        },
        "outputId": "541eb448-57f1-4568-d459-ca2358c36f92"
      },
      "source": [
        "data.describe()"
      ],
      "execution_count": null,
      "outputs": [
        {
          "output_type": "execute_result",
          "data": {
            "text/html": [
              "<div>\n",
              "<style scoped>\n",
              "    .dataframe tbody tr th:only-of-type {\n",
              "        vertical-align: middle;\n",
              "    }\n",
              "\n",
              "    .dataframe tbody tr th {\n",
              "        vertical-align: top;\n",
              "    }\n",
              "\n",
              "    .dataframe thead th {\n",
              "        text-align: right;\n",
              "    }\n",
              "</style>\n",
              "<table border=\"1\" class=\"dataframe\">\n",
              "  <thead>\n",
              "    <tr style=\"text-align: right;\">\n",
              "      <th></th>\n",
              "      <th>Time</th>\n",
              "      <th>V1</th>\n",
              "      <th>V2</th>\n",
              "      <th>V3</th>\n",
              "      <th>V4</th>\n",
              "      <th>V5</th>\n",
              "      <th>V6</th>\n",
              "      <th>V7</th>\n",
              "      <th>V8</th>\n",
              "      <th>V9</th>\n",
              "      <th>V10</th>\n",
              "      <th>V11</th>\n",
              "      <th>V12</th>\n",
              "      <th>V13</th>\n",
              "      <th>V14</th>\n",
              "      <th>V15</th>\n",
              "      <th>V16</th>\n",
              "      <th>V17</th>\n",
              "      <th>V18</th>\n",
              "      <th>V19</th>\n",
              "      <th>V20</th>\n",
              "      <th>V21</th>\n",
              "      <th>V22</th>\n",
              "      <th>V23</th>\n",
              "      <th>V24</th>\n",
              "      <th>V25</th>\n",
              "      <th>V26</th>\n",
              "      <th>V27</th>\n",
              "      <th>V28</th>\n",
              "      <th>Amount</th>\n",
              "      <th>Class</th>\n",
              "    </tr>\n",
              "  </thead>\n",
              "  <tbody>\n",
              "    <tr>\n",
              "      <th>count</th>\n",
              "      <td>284807.000000</td>\n",
              "      <td>2.848070e+05</td>\n",
              "      <td>2.848070e+05</td>\n",
              "      <td>2.848070e+05</td>\n",
              "      <td>2.848070e+05</td>\n",
              "      <td>2.848070e+05</td>\n",
              "      <td>2.848070e+05</td>\n",
              "      <td>2.848070e+05</td>\n",
              "      <td>2.848070e+05</td>\n",
              "      <td>2.848070e+05</td>\n",
              "      <td>2.848070e+05</td>\n",
              "      <td>2.848070e+05</td>\n",
              "      <td>2.848070e+05</td>\n",
              "      <td>2.848070e+05</td>\n",
              "      <td>2.848070e+05</td>\n",
              "      <td>2.848070e+05</td>\n",
              "      <td>2.848070e+05</td>\n",
              "      <td>2.848070e+05</td>\n",
              "      <td>2.848070e+05</td>\n",
              "      <td>2.848070e+05</td>\n",
              "      <td>2.848070e+05</td>\n",
              "      <td>2.848070e+05</td>\n",
              "      <td>2.848070e+05</td>\n",
              "      <td>2.848070e+05</td>\n",
              "      <td>2.848070e+05</td>\n",
              "      <td>2.848070e+05</td>\n",
              "      <td>2.848070e+05</td>\n",
              "      <td>2.848070e+05</td>\n",
              "      <td>2.848070e+05</td>\n",
              "      <td>284807.000000</td>\n",
              "      <td>284807.000000</td>\n",
              "    </tr>\n",
              "    <tr>\n",
              "      <th>mean</th>\n",
              "      <td>94813.859575</td>\n",
              "      <td>3.919560e-15</td>\n",
              "      <td>5.688174e-16</td>\n",
              "      <td>-8.769071e-15</td>\n",
              "      <td>2.782312e-15</td>\n",
              "      <td>-1.552563e-15</td>\n",
              "      <td>2.010663e-15</td>\n",
              "      <td>-1.694249e-15</td>\n",
              "      <td>-1.927028e-16</td>\n",
              "      <td>-3.137024e-15</td>\n",
              "      <td>1.768627e-15</td>\n",
              "      <td>9.170318e-16</td>\n",
              "      <td>-1.810658e-15</td>\n",
              "      <td>1.693438e-15</td>\n",
              "      <td>1.479045e-15</td>\n",
              "      <td>3.482336e-15</td>\n",
              "      <td>1.392007e-15</td>\n",
              "      <td>-7.528491e-16</td>\n",
              "      <td>4.328772e-16</td>\n",
              "      <td>9.049732e-16</td>\n",
              "      <td>5.085503e-16</td>\n",
              "      <td>1.537294e-16</td>\n",
              "      <td>7.959909e-16</td>\n",
              "      <td>5.367590e-16</td>\n",
              "      <td>4.458112e-15</td>\n",
              "      <td>1.453003e-15</td>\n",
              "      <td>1.699104e-15</td>\n",
              "      <td>-3.660161e-16</td>\n",
              "      <td>-1.206049e-16</td>\n",
              "      <td>88.349619</td>\n",
              "      <td>0.001727</td>\n",
              "    </tr>\n",
              "    <tr>\n",
              "      <th>std</th>\n",
              "      <td>47488.145955</td>\n",
              "      <td>1.958696e+00</td>\n",
              "      <td>1.651309e+00</td>\n",
              "      <td>1.516255e+00</td>\n",
              "      <td>1.415869e+00</td>\n",
              "      <td>1.380247e+00</td>\n",
              "      <td>1.332271e+00</td>\n",
              "      <td>1.237094e+00</td>\n",
              "      <td>1.194353e+00</td>\n",
              "      <td>1.098632e+00</td>\n",
              "      <td>1.088850e+00</td>\n",
              "      <td>1.020713e+00</td>\n",
              "      <td>9.992014e-01</td>\n",
              "      <td>9.952742e-01</td>\n",
              "      <td>9.585956e-01</td>\n",
              "      <td>9.153160e-01</td>\n",
              "      <td>8.762529e-01</td>\n",
              "      <td>8.493371e-01</td>\n",
              "      <td>8.381762e-01</td>\n",
              "      <td>8.140405e-01</td>\n",
              "      <td>7.709250e-01</td>\n",
              "      <td>7.345240e-01</td>\n",
              "      <td>7.257016e-01</td>\n",
              "      <td>6.244603e-01</td>\n",
              "      <td>6.056471e-01</td>\n",
              "      <td>5.212781e-01</td>\n",
              "      <td>4.822270e-01</td>\n",
              "      <td>4.036325e-01</td>\n",
              "      <td>3.300833e-01</td>\n",
              "      <td>250.120109</td>\n",
              "      <td>0.041527</td>\n",
              "    </tr>\n",
              "    <tr>\n",
              "      <th>min</th>\n",
              "      <td>0.000000</td>\n",
              "      <td>-5.640751e+01</td>\n",
              "      <td>-7.271573e+01</td>\n",
              "      <td>-4.832559e+01</td>\n",
              "      <td>-5.683171e+00</td>\n",
              "      <td>-1.137433e+02</td>\n",
              "      <td>-2.616051e+01</td>\n",
              "      <td>-4.355724e+01</td>\n",
              "      <td>-7.321672e+01</td>\n",
              "      <td>-1.343407e+01</td>\n",
              "      <td>-2.458826e+01</td>\n",
              "      <td>-4.797473e+00</td>\n",
              "      <td>-1.868371e+01</td>\n",
              "      <td>-5.791881e+00</td>\n",
              "      <td>-1.921433e+01</td>\n",
              "      <td>-4.498945e+00</td>\n",
              "      <td>-1.412985e+01</td>\n",
              "      <td>-2.516280e+01</td>\n",
              "      <td>-9.498746e+00</td>\n",
              "      <td>-7.213527e+00</td>\n",
              "      <td>-5.449772e+01</td>\n",
              "      <td>-3.483038e+01</td>\n",
              "      <td>-1.093314e+01</td>\n",
              "      <td>-4.480774e+01</td>\n",
              "      <td>-2.836627e+00</td>\n",
              "      <td>-1.029540e+01</td>\n",
              "      <td>-2.604551e+00</td>\n",
              "      <td>-2.256568e+01</td>\n",
              "      <td>-1.543008e+01</td>\n",
              "      <td>0.000000</td>\n",
              "      <td>0.000000</td>\n",
              "    </tr>\n",
              "    <tr>\n",
              "      <th>25%</th>\n",
              "      <td>54201.500000</td>\n",
              "      <td>-9.203734e-01</td>\n",
              "      <td>-5.985499e-01</td>\n",
              "      <td>-8.903648e-01</td>\n",
              "      <td>-8.486401e-01</td>\n",
              "      <td>-6.915971e-01</td>\n",
              "      <td>-7.682956e-01</td>\n",
              "      <td>-5.540759e-01</td>\n",
              "      <td>-2.086297e-01</td>\n",
              "      <td>-6.430976e-01</td>\n",
              "      <td>-5.354257e-01</td>\n",
              "      <td>-7.624942e-01</td>\n",
              "      <td>-4.055715e-01</td>\n",
              "      <td>-6.485393e-01</td>\n",
              "      <td>-4.255740e-01</td>\n",
              "      <td>-5.828843e-01</td>\n",
              "      <td>-4.680368e-01</td>\n",
              "      <td>-4.837483e-01</td>\n",
              "      <td>-4.988498e-01</td>\n",
              "      <td>-4.562989e-01</td>\n",
              "      <td>-2.117214e-01</td>\n",
              "      <td>-2.283949e-01</td>\n",
              "      <td>-5.423504e-01</td>\n",
              "      <td>-1.618463e-01</td>\n",
              "      <td>-3.545861e-01</td>\n",
              "      <td>-3.171451e-01</td>\n",
              "      <td>-3.269839e-01</td>\n",
              "      <td>-7.083953e-02</td>\n",
              "      <td>-5.295979e-02</td>\n",
              "      <td>5.600000</td>\n",
              "      <td>0.000000</td>\n",
              "    </tr>\n",
              "    <tr>\n",
              "      <th>50%</th>\n",
              "      <td>84692.000000</td>\n",
              "      <td>1.810880e-02</td>\n",
              "      <td>6.548556e-02</td>\n",
              "      <td>1.798463e-01</td>\n",
              "      <td>-1.984653e-02</td>\n",
              "      <td>-5.433583e-02</td>\n",
              "      <td>-2.741871e-01</td>\n",
              "      <td>4.010308e-02</td>\n",
              "      <td>2.235804e-02</td>\n",
              "      <td>-5.142873e-02</td>\n",
              "      <td>-9.291738e-02</td>\n",
              "      <td>-3.275735e-02</td>\n",
              "      <td>1.400326e-01</td>\n",
              "      <td>-1.356806e-02</td>\n",
              "      <td>5.060132e-02</td>\n",
              "      <td>4.807155e-02</td>\n",
              "      <td>6.641332e-02</td>\n",
              "      <td>-6.567575e-02</td>\n",
              "      <td>-3.636312e-03</td>\n",
              "      <td>3.734823e-03</td>\n",
              "      <td>-6.248109e-02</td>\n",
              "      <td>-2.945017e-02</td>\n",
              "      <td>6.781943e-03</td>\n",
              "      <td>-1.119293e-02</td>\n",
              "      <td>4.097606e-02</td>\n",
              "      <td>1.659350e-02</td>\n",
              "      <td>-5.213911e-02</td>\n",
              "      <td>1.342146e-03</td>\n",
              "      <td>1.124383e-02</td>\n",
              "      <td>22.000000</td>\n",
              "      <td>0.000000</td>\n",
              "    </tr>\n",
              "    <tr>\n",
              "      <th>75%</th>\n",
              "      <td>139320.500000</td>\n",
              "      <td>1.315642e+00</td>\n",
              "      <td>8.037239e-01</td>\n",
              "      <td>1.027196e+00</td>\n",
              "      <td>7.433413e-01</td>\n",
              "      <td>6.119264e-01</td>\n",
              "      <td>3.985649e-01</td>\n",
              "      <td>5.704361e-01</td>\n",
              "      <td>3.273459e-01</td>\n",
              "      <td>5.971390e-01</td>\n",
              "      <td>4.539234e-01</td>\n",
              "      <td>7.395934e-01</td>\n",
              "      <td>6.182380e-01</td>\n",
              "      <td>6.625050e-01</td>\n",
              "      <td>4.931498e-01</td>\n",
              "      <td>6.488208e-01</td>\n",
              "      <td>5.232963e-01</td>\n",
              "      <td>3.996750e-01</td>\n",
              "      <td>5.008067e-01</td>\n",
              "      <td>4.589494e-01</td>\n",
              "      <td>1.330408e-01</td>\n",
              "      <td>1.863772e-01</td>\n",
              "      <td>5.285536e-01</td>\n",
              "      <td>1.476421e-01</td>\n",
              "      <td>4.395266e-01</td>\n",
              "      <td>3.507156e-01</td>\n",
              "      <td>2.409522e-01</td>\n",
              "      <td>9.104512e-02</td>\n",
              "      <td>7.827995e-02</td>\n",
              "      <td>77.165000</td>\n",
              "      <td>0.000000</td>\n",
              "    </tr>\n",
              "    <tr>\n",
              "      <th>max</th>\n",
              "      <td>172792.000000</td>\n",
              "      <td>2.454930e+00</td>\n",
              "      <td>2.205773e+01</td>\n",
              "      <td>9.382558e+00</td>\n",
              "      <td>1.687534e+01</td>\n",
              "      <td>3.480167e+01</td>\n",
              "      <td>7.330163e+01</td>\n",
              "      <td>1.205895e+02</td>\n",
              "      <td>2.000721e+01</td>\n",
              "      <td>1.559499e+01</td>\n",
              "      <td>2.374514e+01</td>\n",
              "      <td>1.201891e+01</td>\n",
              "      <td>7.848392e+00</td>\n",
              "      <td>7.126883e+00</td>\n",
              "      <td>1.052677e+01</td>\n",
              "      <td>8.877742e+00</td>\n",
              "      <td>1.731511e+01</td>\n",
              "      <td>9.253526e+00</td>\n",
              "      <td>5.041069e+00</td>\n",
              "      <td>5.591971e+00</td>\n",
              "      <td>3.942090e+01</td>\n",
              "      <td>2.720284e+01</td>\n",
              "      <td>1.050309e+01</td>\n",
              "      <td>2.252841e+01</td>\n",
              "      <td>4.584549e+00</td>\n",
              "      <td>7.519589e+00</td>\n",
              "      <td>3.517346e+00</td>\n",
              "      <td>3.161220e+01</td>\n",
              "      <td>3.384781e+01</td>\n",
              "      <td>25691.160000</td>\n",
              "      <td>1.000000</td>\n",
              "    </tr>\n",
              "  </tbody>\n",
              "</table>\n",
              "</div>"
            ],
            "text/plain": [
              "                Time            V1  ...         Amount          Class\n",
              "count  284807.000000  2.848070e+05  ...  284807.000000  284807.000000\n",
              "mean    94813.859575  3.919560e-15  ...      88.349619       0.001727\n",
              "std     47488.145955  1.958696e+00  ...     250.120109       0.041527\n",
              "min         0.000000 -5.640751e+01  ...       0.000000       0.000000\n",
              "25%     54201.500000 -9.203734e-01  ...       5.600000       0.000000\n",
              "50%     84692.000000  1.810880e-02  ...      22.000000       0.000000\n",
              "75%    139320.500000  1.315642e+00  ...      77.165000       0.000000\n",
              "max    172792.000000  2.454930e+00  ...   25691.160000       1.000000\n",
              "\n",
              "[8 rows x 31 columns]"
            ]
          },
          "metadata": {
            "tags": []
          },
          "execution_count": 9
        }
      ]
    },
    {
      "cell_type": "markdown",
      "metadata": {
        "id": "QwfUAj7n3UPf",
        "colab_type": "text"
      },
      "source": [
        "<h3>As we can see all the features have different distribution"
      ]
    },
    {
      "cell_type": "code",
      "metadata": {
        "id": "nWyEcgQmPSXs",
        "colab_type": "code",
        "colab": {
          "base_uri": "https://localhost:8080/",
          "height": 1000
        },
        "outputId": "44528a39-f939-46a0-8822-60a5bd92a3b0"
      },
      "source": [
        "def draw_histograms(dataframe, features, rows, cols):\n",
        "    fig=plt.figure(figsize=(20,20))\n",
        "    for i, feature in enumerate(features):\n",
        "        ax=fig.add_subplot(rows,cols,i+1)\n",
        "        dataframe[feature].hist(bins=20,ax=ax,facecolor='midnightblue')\n",
        "        ax.set_title(feature+\" Distribution\",color='DarkRed')\n",
        "        ax.set_yscale('log')\n",
        "    fig.tight_layout()  \n",
        "    plt.show()\n",
        "draw_histograms(data,data.columns,8,4)"
      ],
      "execution_count": null,
      "outputs": [
        {
          "output_type": "display_data",
          "data": {
            "image/png": "[encoded data removed]",
            "text/plain": [
              "<Figure size 1440x1440 with 31 Axes>"
            ]
          },
          "metadata": {
            "tags": [],
            "needs_background": "light"
          }
        }
      ]
    },
    {
      "cell_type": "markdown",
      "metadata": {
        "id": "n-6jrwuI8e6g",
        "colab_type": "text"
      },
      "source": [
        "<h2><b> 2.2 Checking data balancing"
      ]
    },
    {
      "cell_type": "code",
      "metadata": {
        "id": "xAQXkfweDxPQ",
        "colab_type": "code",
        "colab": {
          "base_uri": "https://localhost:8080/",
          "height": 68
        },
        "outputId": "5ec89e75-d807-4d78-c5cc-ba700a56f35a"
      },
      "source": [
        "data['Class'].value_counts()"
      ],
      "execution_count": null,
      "outputs": [
        {
          "output_type": "execute_result",
          "data": {
            "text/plain": [
              "0    284315\n",
              "1       492\n",
              "Name: Class, dtype: int64"
            ]
          },
          "metadata": {
            "tags": []
          },
          "execution_count": 11
        }
      ]
    },
    {
      "cell_type": "code",
      "metadata": {
        "id": "lXiwElGeEraR",
        "colab_type": "code",
        "colab": {}
      },
      "source": [
        "class_ratio = (data[data['Class'] == 1].shape[0]/data[data['Class'] == 0].shape[0])*100"
      ],
      "execution_count": null,
      "outputs": []
    },
    {
      "cell_type": "code",
      "metadata": {
        "id": "k17AJnWwHiaN",
        "colab_type": "code",
        "colab": {
          "base_uri": "https://localhost:8080/",
          "height": 34
        },
        "outputId": "2683d511-7cd9-43c6-aefe-06d85e8d86da"
      },
      "source": [
        "print(\"Percentage of positive to negative class :\",class_ratio)"
      ],
      "execution_count": null,
      "outputs": [
        {
          "output_type": "stream",
          "text": [
            "Percentage of positive to negative class : 0.17304750013189596\n"
          ],
          "name": "stdout"
        }
      ]
    },
    {
      "cell_type": "markdown",
      "metadata": {
        "id": "u7zYd5do8yMB",
        "colab_type": "text"
      },
      "source": [
        "<h2><b> 2.3 Checking and Removal of null values present"
      ]
    },
    {
      "cell_type": "code",
      "metadata": {
        "id": "mGLymOOAIObl",
        "colab_type": "code",
        "colab": {
          "base_uri": "https://localhost:8080/",
          "height": 561
        },
        "outputId": "77381ef1-5cfe-4d10-c39b-ae06fe29b560"
      },
      "source": [
        "data.isnull().sum()"
      ],
      "execution_count": null,
      "outputs": [
        {
          "output_type": "execute_result",
          "data": {
            "text/plain": [
              "Time      0\n",
              "V1        0\n",
              "V2        0\n",
              "V3        0\n",
              "V4        0\n",
              "V5        0\n",
              "V6        0\n",
              "V7        0\n",
              "V8        0\n",
              "V9        0\n",
              "V10       0\n",
              "V11       0\n",
              "V12       0\n",
              "V13       0\n",
              "V14       0\n",
              "V15       0\n",
              "V16       0\n",
              "V17       0\n",
              "V18       0\n",
              "V19       0\n",
              "V20       0\n",
              "V21       0\n",
              "V22       0\n",
              "V23       0\n",
              "V24       0\n",
              "V25       0\n",
              "V26       0\n",
              "V27       0\n",
              "V28       0\n",
              "Amount    0\n",
              "Class     0\n",
              "dtype: int64"
            ]
          },
          "metadata": {
            "tags": []
          },
          "execution_count": 14
        }
      ]
    },
    {
      "cell_type": "markdown",
      "metadata": {
        "id": "FkAfLXke9Yzv",
        "colab_type": "text"
      },
      "source": [
        "<h3>No column has null values present "
      ]
    },
    {
      "cell_type": "markdown",
      "metadata": {
        "id": "oHoTKfDY9fl3",
        "colab_type": "text"
      },
      "source": [
        "<h2><b>2.4 Checking and Removal of duplicate values"
      ]
    },
    {
      "cell_type": "code",
      "metadata": {
        "id": "R9rhXAnZ33Ur",
        "colab_type": "code",
        "colab": {
          "base_uri": "https://localhost:8080/",
          "height": 439
        },
        "outputId": "782e6963-b6c6-48e6-d4ed-a8ec3a5c0e78"
      },
      "source": [
        "#Printing Duplicate values\n",
        "data[data.duplicated(keep=False)]"
      ],
      "execution_count": null,
      "outputs": [
        {
          "output_type": "execute_result",
          "data": {
            "text/html": [
              "<div>\n",
              "<style scoped>\n",
              "    .dataframe tbody tr th:only-of-type {\n",
              "        vertical-align: middle;\n",
              "    }\n",
              "\n",
              "    .dataframe tbody tr th {\n",
              "        vertical-align: top;\n",
              "    }\n",
              "\n",
              "    .dataframe thead th {\n",
              "        text-align: right;\n",
              "    }\n",
              "</style>\n",
              "<table border=\"1\" class=\"dataframe\">\n",
              "  <thead>\n",
              "    <tr style=\"text-align: right;\">\n",
              "      <th></th>\n",
              "      <th>Time</th>\n",
              "      <th>V1</th>\n",
              "      <th>V2</th>\n",
              "      <th>V3</th>\n",
              "      <th>V4</th>\n",
              "      <th>V5</th>\n",
              "      <th>V6</th>\n",
              "      <th>V7</th>\n",
              "      <th>V8</th>\n",
              "      <th>V9</th>\n",
              "      <th>V10</th>\n",
              "      <th>V11</th>\n",
              "      <th>V12</th>\n",
              "      <th>V13</th>\n",
              "      <th>V14</th>\n",
              "      <th>V15</th>\n",
              "      <th>V16</th>\n",
              "      <th>V17</th>\n",
              "      <th>V18</th>\n",
              "      <th>V19</th>\n",
              "      <th>V20</th>\n",
              "      <th>V21</th>\n",
              "      <th>V22</th>\n",
              "      <th>V23</th>\n",
              "      <th>V24</th>\n",
              "      <th>V25</th>\n",
              "      <th>V26</th>\n",
              "      <th>V27</th>\n",
              "      <th>V28</th>\n",
              "      <th>Amount</th>\n",
              "      <th>Class</th>\n",
              "    </tr>\n",
              "  </thead>\n",
              "  <tbody>\n",
              "    <tr>\n",
              "      <th>32</th>\n",
              "      <td>26.0</td>\n",
              "      <td>-0.529912</td>\n",
              "      <td>0.873892</td>\n",
              "      <td>1.347247</td>\n",
              "      <td>0.145457</td>\n",
              "      <td>0.414209</td>\n",
              "      <td>0.100223</td>\n",
              "      <td>0.711206</td>\n",
              "      <td>0.176066</td>\n",
              "      <td>-0.286717</td>\n",
              "      <td>-0.484688</td>\n",
              "      <td>0.872490</td>\n",
              "      <td>0.851636</td>\n",
              "      <td>-0.571745</td>\n",
              "      <td>0.100974</td>\n",
              "      <td>-1.519772</td>\n",
              "      <td>-0.284376</td>\n",
              "      <td>-0.310524</td>\n",
              "      <td>-0.404248</td>\n",
              "      <td>-0.823374</td>\n",
              "      <td>-0.290348</td>\n",
              "      <td>0.046949</td>\n",
              "      <td>0.208105</td>\n",
              "      <td>-0.185548</td>\n",
              "      <td>0.001031</td>\n",
              "      <td>0.098816</td>\n",
              "      <td>-0.552904</td>\n",
              "      <td>-0.073288</td>\n",
              "      <td>0.023307</td>\n",
              "      <td>6.14</td>\n",
              "      <td>0</td>\n",
              "    </tr>\n",
              "    <tr>\n",
              "      <th>33</th>\n",
              "      <td>26.0</td>\n",
              "      <td>-0.529912</td>\n",
              "      <td>0.873892</td>\n",
              "      <td>1.347247</td>\n",
              "      <td>0.145457</td>\n",
              "      <td>0.414209</td>\n",
              "      <td>0.100223</td>\n",
              "      <td>0.711206</td>\n",
              "      <td>0.176066</td>\n",
              "      <td>-0.286717</td>\n",
              "      <td>-0.484688</td>\n",
              "      <td>0.872490</td>\n",
              "      <td>0.851636</td>\n",
              "      <td>-0.571745</td>\n",
              "      <td>0.100974</td>\n",
              "      <td>-1.519772</td>\n",
              "      <td>-0.284376</td>\n",
              "      <td>-0.310524</td>\n",
              "      <td>-0.404248</td>\n",
              "      <td>-0.823374</td>\n",
              "      <td>-0.290348</td>\n",
              "      <td>0.046949</td>\n",
              "      <td>0.208105</td>\n",
              "      <td>-0.185548</td>\n",
              "      <td>0.001031</td>\n",
              "      <td>0.098816</td>\n",
              "      <td>-0.552904</td>\n",
              "      <td>-0.073288</td>\n",
              "      <td>0.023307</td>\n",
              "      <td>6.14</td>\n",
              "      <td>0</td>\n",
              "    </tr>\n",
              "    <tr>\n",
              "      <th>34</th>\n",
              "      <td>26.0</td>\n",
              "      <td>-0.535388</td>\n",
              "      <td>0.865268</td>\n",
              "      <td>1.351076</td>\n",
              "      <td>0.147575</td>\n",
              "      <td>0.433680</td>\n",
              "      <td>0.086983</td>\n",
              "      <td>0.693039</td>\n",
              "      <td>0.179742</td>\n",
              "      <td>-0.285642</td>\n",
              "      <td>-0.482474</td>\n",
              "      <td>0.871800</td>\n",
              "      <td>0.853447</td>\n",
              "      <td>-0.571822</td>\n",
              "      <td>0.102252</td>\n",
              "      <td>-1.519991</td>\n",
              "      <td>-0.285912</td>\n",
              "      <td>-0.309633</td>\n",
              "      <td>-0.403902</td>\n",
              "      <td>-0.823743</td>\n",
              "      <td>-0.283264</td>\n",
              "      <td>0.049526</td>\n",
              "      <td>0.206537</td>\n",
              "      <td>-0.187108</td>\n",
              "      <td>0.000753</td>\n",
              "      <td>0.098117</td>\n",
              "      <td>-0.553471</td>\n",
              "      <td>-0.078306</td>\n",
              "      <td>0.025427</td>\n",
              "      <td>1.77</td>\n",
              "      <td>0</td>\n",
              "    </tr>\n",
              "    <tr>\n",
              "      <th>35</th>\n",
              "      <td>26.0</td>\n",
              "      <td>-0.535388</td>\n",
              "      <td>0.865268</td>\n",
              "      <td>1.351076</td>\n",
              "      <td>0.147575</td>\n",
              "      <td>0.433680</td>\n",
              "      <td>0.086983</td>\n",
              "      <td>0.693039</td>\n",
              "      <td>0.179742</td>\n",
              "      <td>-0.285642</td>\n",
              "      <td>-0.482474</td>\n",
              "      <td>0.871800</td>\n",
              "      <td>0.853447</td>\n",
              "      <td>-0.571822</td>\n",
              "      <td>0.102252</td>\n",
              "      <td>-1.519991</td>\n",
              "      <td>-0.285912</td>\n",
              "      <td>-0.309633</td>\n",
              "      <td>-0.403902</td>\n",
              "      <td>-0.823743</td>\n",
              "      <td>-0.283264</td>\n",
              "      <td>0.049526</td>\n",
              "      <td>0.206537</td>\n",
              "      <td>-0.187108</td>\n",
              "      <td>0.000753</td>\n",
              "      <td>0.098117</td>\n",
              "      <td>-0.553471</td>\n",
              "      <td>-0.078306</td>\n",
              "      <td>0.025427</td>\n",
              "      <td>1.77</td>\n",
              "      <td>0</td>\n",
              "    </tr>\n",
              "    <tr>\n",
              "      <th>112</th>\n",
              "      <td>74.0</td>\n",
              "      <td>1.038370</td>\n",
              "      <td>0.127486</td>\n",
              "      <td>0.184456</td>\n",
              "      <td>1.109950</td>\n",
              "      <td>0.441699</td>\n",
              "      <td>0.945283</td>\n",
              "      <td>-0.036715</td>\n",
              "      <td>0.350995</td>\n",
              "      <td>0.118950</td>\n",
              "      <td>-0.243289</td>\n",
              "      <td>0.578063</td>\n",
              "      <td>0.674730</td>\n",
              "      <td>-0.534231</td>\n",
              "      <td>0.446601</td>\n",
              "      <td>1.122885</td>\n",
              "      <td>-1.768001</td>\n",
              "      <td>1.241157</td>\n",
              "      <td>-2.449500</td>\n",
              "      <td>-1.747255</td>\n",
              "      <td>-0.335520</td>\n",
              "      <td>0.102520</td>\n",
              "      <td>0.605089</td>\n",
              "      <td>0.023092</td>\n",
              "      <td>-0.626463</td>\n",
              "      <td>0.479120</td>\n",
              "      <td>-0.166937</td>\n",
              "      <td>0.081247</td>\n",
              "      <td>0.001192</td>\n",
              "      <td>1.18</td>\n",
              "      <td>0</td>\n",
              "    </tr>\n",
              "    <tr>\n",
              "      <th>...</th>\n",
              "      <td>...</td>\n",
              "      <td>...</td>\n",
              "      <td>...</td>\n",
              "      <td>...</td>\n",
              "      <td>...</td>\n",
              "      <td>...</td>\n",
              "      <td>...</td>\n",
              "      <td>...</td>\n",
              "      <td>...</td>\n",
              "      <td>...</td>\n",
              "      <td>...</td>\n",
              "      <td>...</td>\n",
              "      <td>...</td>\n",
              "      <td>...</td>\n",
              "      <td>...</td>\n",
              "      <td>...</td>\n",
              "      <td>...</td>\n",
              "      <td>...</td>\n",
              "      <td>...</td>\n",
              "      <td>...</td>\n",
              "      <td>...</td>\n",
              "      <td>...</td>\n",
              "      <td>...</td>\n",
              "      <td>...</td>\n",
              "      <td>...</td>\n",
              "      <td>...</td>\n",
              "      <td>...</td>\n",
              "      <td>...</td>\n",
              "      <td>...</td>\n",
              "      <td>...</td>\n",
              "      <td>...</td>\n",
              "    </tr>\n",
              "    <tr>\n",
              "      <th>283485</th>\n",
              "      <td>171627.0</td>\n",
              "      <td>-1.457978</td>\n",
              "      <td>1.378203</td>\n",
              "      <td>0.811515</td>\n",
              "      <td>-0.603760</td>\n",
              "      <td>-0.711883</td>\n",
              "      <td>-0.471672</td>\n",
              "      <td>-0.282535</td>\n",
              "      <td>0.880654</td>\n",
              "      <td>0.052808</td>\n",
              "      <td>-0.830603</td>\n",
              "      <td>-1.191774</td>\n",
              "      <td>0.942870</td>\n",
              "      <td>1.372621</td>\n",
              "      <td>-0.037988</td>\n",
              "      <td>-0.208490</td>\n",
              "      <td>0.321883</td>\n",
              "      <td>-0.205951</td>\n",
              "      <td>-0.025225</td>\n",
              "      <td>-0.468427</td>\n",
              "      <td>0.023667</td>\n",
              "      <td>0.284205</td>\n",
              "      <td>0.949659</td>\n",
              "      <td>-0.216949</td>\n",
              "      <td>0.083250</td>\n",
              "      <td>0.044944</td>\n",
              "      <td>0.639933</td>\n",
              "      <td>0.219432</td>\n",
              "      <td>0.116772</td>\n",
              "      <td>11.93</td>\n",
              "      <td>0</td>\n",
              "    </tr>\n",
              "    <tr>\n",
              "      <th>284190</th>\n",
              "      <td>172233.0</td>\n",
              "      <td>-2.667936</td>\n",
              "      <td>3.160505</td>\n",
              "      <td>-3.355984</td>\n",
              "      <td>1.007845</td>\n",
              "      <td>-0.377397</td>\n",
              "      <td>-0.109730</td>\n",
              "      <td>-0.667233</td>\n",
              "      <td>2.309700</td>\n",
              "      <td>-1.639306</td>\n",
              "      <td>-1.449823</td>\n",
              "      <td>-0.508930</td>\n",
              "      <td>0.600035</td>\n",
              "      <td>-0.627313</td>\n",
              "      <td>1.017499</td>\n",
              "      <td>-0.887384</td>\n",
              "      <td>0.420096</td>\n",
              "      <td>1.856497</td>\n",
              "      <td>1.315099</td>\n",
              "      <td>1.096112</td>\n",
              "      <td>-0.821707</td>\n",
              "      <td>0.391483</td>\n",
              "      <td>0.266536</td>\n",
              "      <td>-0.079853</td>\n",
              "      <td>-0.096395</td>\n",
              "      <td>0.086719</td>\n",
              "      <td>-0.451128</td>\n",
              "      <td>-1.183743</td>\n",
              "      <td>-0.222200</td>\n",
              "      <td>55.66</td>\n",
              "      <td>0</td>\n",
              "    </tr>\n",
              "    <tr>\n",
              "      <th>284191</th>\n",
              "      <td>172233.0</td>\n",
              "      <td>-2.667936</td>\n",
              "      <td>3.160505</td>\n",
              "      <td>-3.355984</td>\n",
              "      <td>1.007845</td>\n",
              "      <td>-0.377397</td>\n",
              "      <td>-0.109730</td>\n",
              "      <td>-0.667233</td>\n",
              "      <td>2.309700</td>\n",
              "      <td>-1.639306</td>\n",
              "      <td>-1.449823</td>\n",
              "      <td>-0.508930</td>\n",
              "      <td>0.600035</td>\n",
              "      <td>-0.627313</td>\n",
              "      <td>1.017499</td>\n",
              "      <td>-0.887384</td>\n",
              "      <td>0.420096</td>\n",
              "      <td>1.856497</td>\n",
              "      <td>1.315099</td>\n",
              "      <td>1.096112</td>\n",
              "      <td>-0.821707</td>\n",
              "      <td>0.391483</td>\n",
              "      <td>0.266536</td>\n",
              "      <td>-0.079853</td>\n",
              "      <td>-0.096395</td>\n",
              "      <td>0.086719</td>\n",
              "      <td>-0.451128</td>\n",
              "      <td>-1.183743</td>\n",
              "      <td>-0.222200</td>\n",
              "      <td>55.66</td>\n",
              "      <td>0</td>\n",
              "    </tr>\n",
              "    <tr>\n",
              "      <th>284192</th>\n",
              "      <td>172233.0</td>\n",
              "      <td>-2.691642</td>\n",
              "      <td>3.123168</td>\n",
              "      <td>-3.339407</td>\n",
              "      <td>1.017018</td>\n",
              "      <td>-0.293095</td>\n",
              "      <td>-0.167054</td>\n",
              "      <td>-0.745886</td>\n",
              "      <td>2.325616</td>\n",
              "      <td>-1.634651</td>\n",
              "      <td>-1.440241</td>\n",
              "      <td>-0.511918</td>\n",
              "      <td>0.607878</td>\n",
              "      <td>-0.627645</td>\n",
              "      <td>1.023032</td>\n",
              "      <td>-0.888334</td>\n",
              "      <td>0.413444</td>\n",
              "      <td>1.860351</td>\n",
              "      <td>1.316597</td>\n",
              "      <td>1.094512</td>\n",
              "      <td>-0.791037</td>\n",
              "      <td>0.402639</td>\n",
              "      <td>0.259746</td>\n",
              "      <td>-0.086606</td>\n",
              "      <td>-0.097597</td>\n",
              "      <td>0.083693</td>\n",
              "      <td>-0.453584</td>\n",
              "      <td>-1.205466</td>\n",
              "      <td>-0.213020</td>\n",
              "      <td>36.74</td>\n",
              "      <td>0</td>\n",
              "    </tr>\n",
              "    <tr>\n",
              "      <th>284193</th>\n",
              "      <td>172233.0</td>\n",
              "      <td>-2.691642</td>\n",
              "      <td>3.123168</td>\n",
              "      <td>-3.339407</td>\n",
              "      <td>1.017018</td>\n",
              "      <td>-0.293095</td>\n",
              "      <td>-0.167054</td>\n",
              "      <td>-0.745886</td>\n",
              "      <td>2.325616</td>\n",
              "      <td>-1.634651</td>\n",
              "      <td>-1.440241</td>\n",
              "      <td>-0.511918</td>\n",
              "      <td>0.607878</td>\n",
              "      <td>-0.627645</td>\n",
              "      <td>1.023032</td>\n",
              "      <td>-0.888334</td>\n",
              "      <td>0.413444</td>\n",
              "      <td>1.860351</td>\n",
              "      <td>1.316597</td>\n",
              "      <td>1.094512</td>\n",
              "      <td>-0.791037</td>\n",
              "      <td>0.402639</td>\n",
              "      <td>0.259746</td>\n",
              "      <td>-0.086606</td>\n",
              "      <td>-0.097597</td>\n",
              "      <td>0.083693</td>\n",
              "      <td>-0.453584</td>\n",
              "      <td>-1.205466</td>\n",
              "      <td>-0.213020</td>\n",
              "      <td>36.74</td>\n",
              "      <td>0</td>\n",
              "    </tr>\n",
              "  </tbody>\n",
              "</table>\n",
              "<p>1854 rows × 31 columns</p>\n",
              "</div>"
            ],
            "text/plain": [
              "            Time        V1        V2  ...       V28  Amount  Class\n",
              "32          26.0 -0.529912  0.873892  ...  0.023307    6.14      0\n",
              "33          26.0 -0.529912  0.873892  ...  0.023307    6.14      0\n",
              "34          26.0 -0.535388  0.865268  ...  0.025427    1.77      0\n",
              "35          26.0 -0.535388  0.865268  ...  0.025427    1.77      0\n",
              "112         74.0  1.038370  0.127486  ...  0.001192    1.18      0\n",
              "...          ...       ...       ...  ...       ...     ...    ...\n",
              "283485  171627.0 -1.457978  1.378203  ...  0.116772   11.93      0\n",
              "284190  172233.0 -2.667936  3.160505  ... -0.222200   55.66      0\n",
              "284191  172233.0 -2.667936  3.160505  ... -0.222200   55.66      0\n",
              "284192  172233.0 -2.691642  3.123168  ... -0.213020   36.74      0\n",
              "284193  172233.0 -2.691642  3.123168  ... -0.213020   36.74      0\n",
              "\n",
              "[1854 rows x 31 columns]"
            ]
          },
          "metadata": {
            "tags": []
          },
          "execution_count": 15
        }
      ]
    },
    {
      "cell_type": "code",
      "metadata": {
        "id": "NJB-rnBG5CR_",
        "colab_type": "code",
        "colab": {}
      },
      "source": [
        "#Removing duplicates\n",
        "data_deduplicated = data.drop_duplicates(keep='first',inplace=False)"
      ],
      "execution_count": null,
      "outputs": []
    },
    {
      "cell_type": "code",
      "metadata": {
        "id": "v4kj0PRyV3h5",
        "colab_type": "code",
        "colab": {
          "base_uri": "https://localhost:8080/",
          "height": 34
        },
        "outputId": "5941806e-0f85-40a7-c9d9-01137087e1b3"
      },
      "source": [
        "print(\"Percentage of data remaining : \",data_deduplicated.shape[0]/data.shape[0])"
      ],
      "execution_count": null,
      "outputs": [
        {
          "output_type": "stream",
          "text": [
            "Percentage of data remaining :  0.996204447222154\n"
          ],
          "name": "stdout"
        }
      ]
    },
    {
      "cell_type": "code",
      "metadata": {
        "id": "criaN12fWK67",
        "colab_type": "code",
        "colab": {}
      },
      "source": [
        "data = data_deduplicated"
      ],
      "execution_count": null,
      "outputs": []
    },
    {
      "cell_type": "code",
      "metadata": {
        "id": "454E5zUDWSVI",
        "colab_type": "code",
        "colab": {}
      },
      "source": [
        "# for conserving memory\n",
        "del data_deduplicated"
      ],
      "execution_count": null,
      "outputs": []
    },
    {
      "cell_type": "code",
      "metadata": {
        "colab_type": "code",
        "id": "KxYa1Jaa5pKW",
        "colab": {
          "base_uri": "https://localhost:8080/",
          "height": 69
        },
        "outputId": "211f9db1-dc11-4392-8973-cc91e1ed1b62"
      },
      "source": [
        "#Cross checking if any duplicate is still present\n",
        "data[data.duplicated(keep=False)]"
      ],
      "execution_count": null,
      "outputs": [
        {
          "output_type": "execute_result",
          "data": {
            "text/html": [
              "<div>\n",
              "<style scoped>\n",
              "    .dataframe tbody tr th:only-of-type {\n",
              "        vertical-align: middle;\n",
              "    }\n",
              "\n",
              "    .dataframe tbody tr th {\n",
              "        vertical-align: top;\n",
              "    }\n",
              "\n",
              "    .dataframe thead th {\n",
              "        text-align: right;\n",
              "    }\n",
              "</style>\n",
              "<table border=\"1\" class=\"dataframe\">\n",
              "  <thead>\n",
              "    <tr style=\"text-align: right;\">\n",
              "      <th></th>\n",
              "      <th>Time</th>\n",
              "      <th>V1</th>\n",
              "      <th>V2</th>\n",
              "      <th>V3</th>\n",
              "      <th>V4</th>\n",
              "      <th>V5</th>\n",
              "      <th>V6</th>\n",
              "      <th>V7</th>\n",
              "      <th>V8</th>\n",
              "      <th>V9</th>\n",
              "      <th>V10</th>\n",
              "      <th>V11</th>\n",
              "      <th>V12</th>\n",
              "      <th>V13</th>\n",
              "      <th>V14</th>\n",
              "      <th>V15</th>\n",
              "      <th>V16</th>\n",
              "      <th>V17</th>\n",
              "      <th>V18</th>\n",
              "      <th>V19</th>\n",
              "      <th>V20</th>\n",
              "      <th>V21</th>\n",
              "      <th>V22</th>\n",
              "      <th>V23</th>\n",
              "      <th>V24</th>\n",
              "      <th>V25</th>\n",
              "      <th>V26</th>\n",
              "      <th>V27</th>\n",
              "      <th>V28</th>\n",
              "      <th>Amount</th>\n",
              "      <th>Class</th>\n",
              "    </tr>\n",
              "  </thead>\n",
              "  <tbody>\n",
              "  </tbody>\n",
              "</table>\n",
              "</div>"
            ],
            "text/plain": [
              "Empty DataFrame\n",
              "Columns: [Time, V1, V2, V3, V4, V5, V6, V7, V8, V9, V10, V11, V12, V13, V14, V15, V16, V17, V18, V19, V20, V21, V22, V23, V24, V25, V26, V27, V28, Amount, Class]\n",
              "Index: []"
            ]
          },
          "metadata": {
            "tags": []
          },
          "execution_count": 20
        }
      ]
    },
    {
      "cell_type": "markdown",
      "metadata": {
        "id": "HrYq8UjI_wMy",
        "colab_type": "text"
      },
      "source": [
        "<h2><b>2.5 Analysing \"Amount\" feature"
      ]
    },
    {
      "cell_type": "code",
      "metadata": {
        "id": "GoWWXm7jJNAr",
        "colab_type": "code",
        "colab": {
          "base_uri": "https://localhost:8080/",
          "height": 170
        },
        "outputId": "be6effc5-97e6-419f-fdfb-fa2ba450b9bf"
      },
      "source": [
        "data[data['Class']==1]['Amount'].describe()"
      ],
      "execution_count": null,
      "outputs": [
        {
          "output_type": "execute_result",
          "data": {
            "text/plain": [
              "count     473.000000\n",
              "mean      123.871860\n",
              "std       260.211041\n",
              "min         0.000000\n",
              "25%         1.000000\n",
              "50%         9.820000\n",
              "75%       105.890000\n",
              "max      2125.870000\n",
              "Name: Amount, dtype: float64"
            ]
          },
          "metadata": {
            "tags": []
          },
          "execution_count": 21
        }
      ]
    },
    {
      "cell_type": "code",
      "metadata": {
        "id": "hJCK8WwzQz2b",
        "colab_type": "code",
        "colab": {
          "base_uri": "https://localhost:8080/",
          "height": 170
        },
        "outputId": "1774bb45-ba0e-4cf1-8d5f-8cabac722045"
      },
      "source": [
        "data[data['Class']==0]['Amount'].describe()"
      ],
      "execution_count": null,
      "outputs": [
        {
          "output_type": "execute_result",
          "data": {
            "text/plain": [
              "count    283253.000000\n",
              "mean         88.413575\n",
              "std         250.379023\n",
              "min           0.000000\n",
              "25%           5.670000\n",
              "50%          22.000000\n",
              "75%          77.460000\n",
              "max       25691.160000\n",
              "Name: Amount, dtype: float64"
            ]
          },
          "metadata": {
            "tags": []
          },
          "execution_count": 22
        }
      ]
    },
    {
      "cell_type": "markdown",
      "metadata": {
        "id": "lqG5WS-RAtd8",
        "colab_type": "text"
      },
      "source": [
        "<h3>We can clearly see that fraduelent transactions have higher value of amount compaired to other"
      ]
    },
    {
      "cell_type": "markdown",
      "metadata": {
        "id": "4Qle5aRZA7xG",
        "colab_type": "text"
      },
      "source": [
        "<h2><b>2.6 Analysing Correlation of features"
      ]
    },
    {
      "cell_type": "code",
      "metadata": {
        "id": "YU23ayEfqzlo",
        "colab_type": "code",
        "colab": {
          "base_uri": "https://localhost:8080/",
          "height": 561
        },
        "outputId": "111bb8a5-fdb2-472d-8245-be9639e4f2b8"
      },
      "source": [
        "data.corr()['Class'].abs().sort_values(ascending=False)"
      ],
      "execution_count": null,
      "outputs": [
        {
          "output_type": "execute_result",
          "data": {
            "text/plain": [
              "Class     1.000000\n",
              "V17       0.313498\n",
              "V14       0.293375\n",
              "V12       0.250711\n",
              "V10       0.206971\n",
              "V16       0.187186\n",
              "V3        0.182322\n",
              "V7        0.172347\n",
              "V11       0.149067\n",
              "V4        0.129326\n",
              "V18       0.105340\n",
              "V1        0.094486\n",
              "V9        0.094021\n",
              "V5        0.087812\n",
              "V2        0.084624\n",
              "V6        0.043915\n",
              "V19       0.033631\n",
              "V8        0.033068\n",
              "V21       0.026357\n",
              "V27       0.021892\n",
              "V20       0.021486\n",
              "Time      0.012359\n",
              "V28       0.009682\n",
              "V24       0.007210\n",
              "V23       0.006333\n",
              "Amount    0.005777\n",
              "V22       0.004887\n",
              "V26       0.004265\n",
              "V13       0.003897\n",
              "V15       0.003300\n",
              "V25       0.003202\n",
              "Name: Class, dtype: float64"
            ]
          },
          "metadata": {
            "tags": []
          },
          "execution_count": 23
        }
      ]
    },
    {
      "cell_type": "markdown",
      "metadata": {
        "id": "U9WZZ2wWBnlG",
        "colab_type": "text"
      },
      "source": [
        "<h3>We can see some features like V14 has very high correlation with target but some features like V15 has very low correlation"
      ]
    },
    {
      "cell_type": "code",
      "metadata": {
        "id": "o2-wQk6qFbkx",
        "colab_type": "code",
        "colab": {
          "base_uri": "https://localhost:8080/",
          "height": 561
        },
        "outputId": "cc140a6f-25a9-476f-fa09-570ca9a2ae4c"
      },
      "source": [
        "#checking for multicollinearity\n",
        "((data.corr()>0.5) & (data.corr()!=1)).any()"
      ],
      "execution_count": null,
      "outputs": [
        {
          "output_type": "execute_result",
          "data": {
            "text/plain": [
              "Time      False\n",
              "V1        False\n",
              "V2        False\n",
              "V3        False\n",
              "V4        False\n",
              "V5        False\n",
              "V6        False\n",
              "V7        False\n",
              "V8        False\n",
              "V9        False\n",
              "V10       False\n",
              "V11       False\n",
              "V12       False\n",
              "V13       False\n",
              "V14       False\n",
              "V15       False\n",
              "V16       False\n",
              "V17       False\n",
              "V18       False\n",
              "V19       False\n",
              "V20       False\n",
              "V21       False\n",
              "V22       False\n",
              "V23       False\n",
              "V24       False\n",
              "V25       False\n",
              "V26       False\n",
              "V27       False\n",
              "V28       False\n",
              "Amount    False\n",
              "Class     False\n",
              "dtype: bool"
            ]
          },
          "metadata": {
            "tags": []
          },
          "execution_count": 24
        }
      ]
    },
    {
      "cell_type": "markdown",
      "metadata": {
        "id": "C_3ctVliLUeT",
        "colab_type": "text"
      },
      "source": [
        "<h3><b> 2.7 Assigning target variable"
      ]
    },
    {
      "cell_type": "code",
      "metadata": {
        "id": "nisVR4tX5pgt",
        "colab_type": "code",
        "colab": {}
      },
      "source": [
        "target = data['Class']"
      ],
      "execution_count": null,
      "outputs": []
    },
    {
      "cell_type": "code",
      "metadata": {
        "id": "6lIEtD_P52AS",
        "colab_type": "code",
        "colab": {}
      },
      "source": [
        "data.drop(['Class'],axis=1,inplace=True)"
      ],
      "execution_count": null,
      "outputs": []
    },
    {
      "cell_type": "code",
      "metadata": {
        "id": "nCFyg9OxwLvB",
        "colab_type": "code",
        "colab": {}
      },
      "source": [
        "feature_names = list(data.columns)"
      ],
      "execution_count": null,
      "outputs": []
    },
    {
      "cell_type": "code",
      "metadata": {
        "id": "5O66FrxV416q",
        "colab_type": "code",
        "colab": {
          "base_uri": "https://localhost:8080/",
          "height": 527
        },
        "outputId": "1482e1b0-836f-47db-8fe6-e43ddeba653a"
      },
      "source": [
        "feature_names"
      ],
      "execution_count": null,
      "outputs": [
        {
          "output_type": "execute_result",
          "data": {
            "text/plain": [
              "['Time',\n",
              " 'V1',\n",
              " 'V2',\n",
              " 'V3',\n",
              " 'V4',\n",
              " 'V5',\n",
              " 'V6',\n",
              " 'V7',\n",
              " 'V8',\n",
              " 'V9',\n",
              " 'V10',\n",
              " 'V11',\n",
              " 'V12',\n",
              " 'V13',\n",
              " 'V14',\n",
              " 'V15',\n",
              " 'V16',\n",
              " 'V17',\n",
              " 'V18',\n",
              " 'V19',\n",
              " 'V20',\n",
              " 'V21',\n",
              " 'V22',\n",
              " 'V23',\n",
              " 'V24',\n",
              " 'V25',\n",
              " 'V26',\n",
              " 'V27',\n",
              " 'V28',\n",
              " 'Amount']"
            ]
          },
          "metadata": {
            "tags": []
          },
          "execution_count": 28
        }
      ]
    },
    {
      "cell_type": "markdown",
      "metadata": {
        "id": "UqY8p661MC7C",
        "colab_type": "text"
      },
      "source": [
        "<h1><b>3. Applying Machine Learning Models"
      ]
    },
    {
      "cell_type": "markdown",
      "metadata": {
        "id": "qcK8BrpYMgiW",
        "colab_type": "text"
      },
      "source": [
        "<h2><b>3.1 Splitting train and test data"
      ]
    },
    {
      "cell_type": "code",
      "metadata": {
        "id": "-Xf7IxWPxkxG",
        "colab_type": "code",
        "colab": {}
      },
      "source": [
        "x_train,x_test,y_train,y_test = train_test_split(data,target, test_size=0.33, stratify=target)"
      ],
      "execution_count": null,
      "outputs": []
    },
    {
      "cell_type": "code",
      "metadata": {
        "id": "1IpQcZp6yJIB",
        "colab_type": "code",
        "colab": {
          "base_uri": "https://localhost:8080/",
          "height": 51
        },
        "outputId": "3b3a303a-753c-476d-b98d-6f7cd22d25e3"
      },
      "source": [
        "print(\"Training Data :\",x_train.shape,y_train.shape)\n",
        "print(\"Testing Data :\",x_test.shape,y_test.shape)"
      ],
      "execution_count": null,
      "outputs": [
        {
          "output_type": "stream",
          "text": [
            "Training Data : (190096, 30) (190096,)\n",
            "Testing Data : (93630, 30) (93630,)\n"
          ],
          "name": "stdout"
        }
      ]
    },
    {
      "cell_type": "markdown",
      "metadata": {
        "id": "DDQOvfjWMnFP",
        "colab_type": "text"
      },
      "source": [
        "<h2><b>3.2 Columns standardization"
      ]
    },
    {
      "cell_type": "code",
      "metadata": {
        "id": "GE-x5CnlwOdC",
        "colab_type": "code",
        "colab": {}
      },
      "source": [
        "scalar = StandardScaler()\n",
        "scaled = scalar.fit(x_train)\n",
        "x_train = scalar.transform(x_train)\n",
        "x_test = scalar.transform(x_test)"
      ],
      "execution_count": null,
      "outputs": []
    },
    {
      "cell_type": "code",
      "metadata": {
        "id": "Ww5O882nwk6V",
        "colab_type": "code",
        "colab": {
          "base_uri": "https://localhost:8080/",
          "height": 119
        },
        "outputId": "57f0d536-7059-48cf-8fcd-b56d1919b013"
      },
      "source": [
        "x_train[0,:]"
      ],
      "execution_count": null,
      "outputs": [
        {
          "output_type": "execute_result",
          "data": {
            "text/plain": [
              "array([-0.57645048, -0.21152602,  0.64011352,  0.92450354,  0.0680219 ,\n",
              "        0.00797334, -0.52873529,  0.48912535,  0.06082391, -0.32027916,\n",
              "       -0.50362014,  0.22033169, -0.12634379, -0.413952  , -0.30706961,\n",
              "        1.28165192,  0.01756559,  0.51183263, -0.76765096, -0.70008689,\n",
              "        0.05388582, -0.30036678, -0.76004483,  0.09233527,  0.55438003,\n",
              "       -0.5596242 ,  0.17110763,  0.64548157,  0.29138677, -0.33388533])"
            ]
          },
          "metadata": {
            "tags": []
          },
          "execution_count": 35
        }
      ]
    },
    {
      "cell_type": "markdown",
      "metadata": {
        "id": "-xWuewm15Ft1",
        "colab_type": "text"
      },
      "source": [
        "<h2><b>3.3 Utility functions"
      ]
    },
    {
      "cell_type": "code",
      "metadata": {
        "id": "YS4jfd9MLJ73",
        "colab_type": "code",
        "colab": {}
      },
      "source": [
        "def batch_predict(clf, data):\n",
        "  y_data_pred = []\n",
        "  tr_loop = data.shape[0] - data.shape[0]%1000\n",
        "  # consider you X_tr shape is 49041, then your cr_loop will be 49041 - 49041%1000 = 49000\n",
        "  # in this for loop we will iterate unti the last 1000 multiplier\n",
        "  for i in range(0, tr_loop, 1000):\n",
        "    y_data_pred.extend(clf.predict_proba(data[i:i+1000])[:,1])\n",
        "    # we will be predicting for the last data points\n",
        "  y_data_pred.extend(clf.predict_proba(data[tr_loop:])[:,1])\n",
        "  return y_data_pred"
      ],
      "execution_count": null,
      "outputs": []
    },
    {
      "cell_type": "code",
      "metadata": {
        "id": "OUNf3VY1zJXe",
        "colab_type": "code",
        "colab": {}
      },
      "source": [
        "def print_plot_metrics(classifier,x_train,x_test,y_true_train,y_true_test):\n",
        "\n",
        "  y_predicted_train = classifier.predict(x_train)\n",
        "  y_predicted_test = classifier.predict(x_test)\n",
        "\n",
        "  calibrated_clfassifier = CalibratedClassifierCV(classifier, method=\"sigmoid\")\n",
        "  calibrated_clfassifier.fit(x_train, y_true_train)\n",
        "  y_prob_train = batch_predict(calibrated_clfassifier,x_train)\n",
        "  y_prob_test = batch_predict(calibrated_clfassifier,x_test)\n",
        "\n",
        "  data = [['dataset','Precision','Recall','F1_Score'],\n",
        "  ['Train',precision_score(y_true_train,y_predicted_train),recall_score(y_true_train,y_predicted_train),f1_score(y_true_train,y_predicted_train)],\n",
        "  ['Test',precision_score(y_true_test,y_predicted_test),recall_score(y_true_test,y_predicted_test),f1_score(y_true_test,y_predicted_test)],\n",
        "  ]\n",
        "  print(tabletext.to_text(data))\n",
        "\n",
        "  plot_confusion_matrix(classifier,x_train,y_true_train,values_format = '.6g')\n",
        "  plt.title(\"Train Confusion Matrix\",fontsize=30)\n",
        "  plt.show()\n",
        "  plot_confusion_matrix(classifier,x_test,y_true_test,values_format = '.6g')\n",
        "  plt.title(\"Test Confusion Matrix\",fontsize=30)\n",
        "  plt.show()\n",
        "\n",
        "  train_precision, train_recall, tr_thresholds = precision_recall_curve(y_true_train, y_prob_train)\n",
        "  test_precision, test_recall, te_thresholds = precision_recall_curve(y_true_test, y_prob_test)\n",
        "  plt.plot(train_recall,train_precision, label=\"train precion-recall AUC =\"+str(auc(train_recall,train_precision)))\n",
        "  plt.plot(test_recall,test_precision, label=\"test precion-recall AUC =\"+str(auc(test_recall,test_precision)))\n",
        "  plt.legend()\n",
        "  plt.xlabel(\"precision\")\n",
        "  plt.ylabel(\"recall\")\n",
        "  plt.title(\"precsion-recall Curve\")\n",
        "  plt.grid()\n",
        "  plt.show()"
      ],
      "execution_count": null,
      "outputs": []
    },
    {
      "cell_type": "code",
      "metadata": {
        "id": "xukxy0wbNp4B",
        "colab_type": "code",
        "colab": {
          "base_uri": "https://localhost:8080/",
          "height": 996
        },
        "outputId": "304fe0c3-4ab6-4b08-ab52-d837ec6a80c8"
      },
      "source": [
        "dummy_model = DummyClassifier(strategy='stratified',random_state=42)\n",
        "dummy_model.fit(x_train, y_train)\n",
        "\n",
        "print_plot_metrics(dummy_model,x_train,x_test,y_train,y_test)"
      ],
      "execution_count": null,
      "outputs": [
        {
          "output_type": "stream",
          "text": [
            "┌─────────┬───────────┬────────┬──────────┐\n",
            "│ dataset │ Precision │ Recall │ F1_Score │\n",
            "├─────────┼───────────┼────────┼──────────┤\n",
            "│ Train   │       0.0 │    0.0 │      0.0 │\n",
            "├─────────┼───────────┼────────┼──────────┤\n",
            "│ Test    │       0.0 │    0.0 │      0.0 │\n",
            "└─────────┴───────────┴────────┴──────────┘\n"
          ],
          "name": "stdout"
        },
        {
          "output_type": "display_data",
          "data": {
            "image/png": "[encoded data removed]",
            "text/plain": [
              "<Figure size 432x288 with 2 Axes>"
            ]
          },
          "metadata": {
            "tags": [],
            "needs_background": "light"
          }
        },
        {
          "output_type": "display_data",
          "data": {
            "image/png": "[encoded data removed]",
            "text/plain": [
              "<Figure size 432x288 with 2 Axes>"
            ]
          },
          "metadata": {
            "tags": [],
            "needs_background": "light"
          }
        },
        {
          "output_type": "display_data",
          "data": {
            "image/png": "[encoded data removed]",
            "text/plain": [
              "<Figure size 432x288 with 1 Axes>"
            ]
          },
          "metadata": {
            "tags": [],
            "needs_background": "light"
          }
        }
      ]
    },
    {
      "cell_type": "markdown",
      "metadata": {
        "id": "M-yMTrTYGdL2",
        "colab_type": "text"
      },
      "source": [
        "<h2><b>3.4 Logistic Regression"
      ]
    },
    {
      "cell_type": "code",
      "metadata": {
        "id": "F2bnZmxFGuP1",
        "colab_type": "code",
        "colab": {
          "base_uri": "https://localhost:8080/",
          "height": 187
        },
        "outputId": "5cfd234b-e9fd-4177-d948-edee9edc9249"
      },
      "source": [
        "start_time = datetime.now()\n",
        "\n",
        "alpha = [10**x for x in range(-6,1)]\n",
        "regularizer = ['l1','l2']\n",
        "\n",
        "classifier = SGDClassifier(loss='log',random_state=42,class_weight='balanced')\n",
        "\n",
        "grid_values = {'alpha':alpha,'penalty':regularizer}\n",
        "\n",
        "randomCV = RandomizedSearchCV(classifier,param_distributions=grid_values,n_iter=6,cv=3,scoring='f1',n_jobs=-1,random_state=42,verbose=10)\n",
        "\n",
        "randomCV.fit(x_train, y_train)\n",
        "\n",
        "print(\"Score from Best params : \" ,randomCV.best_score_)\n",
        "print(\"Best params found : \", randomCV.best_params_)\n",
        "print(\"Time taken to run this cell :\", datetime.now() - start_time)"
      ],
      "execution_count": null,
      "outputs": [
        {
          "output_type": "stream",
          "text": [
            "Fitting 3 folds for each of 6 candidates, totalling 18 fits\n"
          ],
          "name": "stdout"
        },
        {
          "output_type": "stream",
          "text": [
            "[Parallel(n_jobs=-1)]: Using backend LokyBackend with 2 concurrent workers.\n",
            "[Parallel(n_jobs=-1)]: Done   1 tasks      | elapsed:    0.8s\n",
            "[Parallel(n_jobs=-1)]: Done   4 tasks      | elapsed:    2.8s\n",
            "[Parallel(n_jobs=-1)]: Done   9 tasks      | elapsed:   37.3s\n",
            "[Parallel(n_jobs=-1)]: Done  14 tasks      | elapsed:   47.4s\n",
            "[Parallel(n_jobs=-1)]: Done  18 out of  18 | elapsed:  3.0min finished\n"
          ],
          "name": "stderr"
        },
        {
          "output_type": "stream",
          "text": [
            "Score from Best params :  0.4622207650020746\n",
            "Best params found :  {'penalty': 'l1', 'alpha': 1}\n",
            "Time taken to run this cell : 0:04:02.664172\n"
          ],
          "name": "stdout"
        }
      ]
    },
    {
      "cell_type": "code",
      "metadata": {
        "id": "fH_bciCkJsbq",
        "colab_type": "code",
        "colab": {
          "base_uri": "https://localhost:8080/",
          "height": 1000
        },
        "outputId": "a65a3435-7944-40f7-ee38-3fd3b2682c7d"
      },
      "source": [
        "classifier = SGDClassifier(penalty='l1', loss='log',alpha=1, random_state=42,class_weight='balanced')\n",
        "classifier.fit(x_train,y_train)\n",
        "\n",
        "print_plot_metrics(classifier,x_train,x_test,y_train,y_test)\n",
        "\n",
        "fig  = plt.figure(figsize=(20,5))\n",
        "plt.bar(feature_names, [abs(num) for num in list(classifier.coef_.flatten())], color ='maroon',  \n",
        "        width = 0.4) \n",
        "  \n",
        "plt.xlabel(\"Features\") \n",
        "plt.ylabel(\"Relative importance\") \n",
        "plt.title(\"Feature Importance of Logistic Regression\") \n",
        "plt.show()"
      ],
      "execution_count": null,
      "outputs": [
        {
          "output_type": "stream",
          "text": [
            "┌─────────┬────────────────────┬────────────────────┬────────────────────┐\n",
            "│ dataset │ Precision          │ Recall             │ F1_Score           │\n",
            "├─────────┼────────────────────┼────────────────────┼────────────────────┤\n",
            "│ Train   │ 0.5232067510548524 │ 0.7823343848580442 │ 0.6270543615676359 │\n",
            "├─────────┼────────────────────┼────────────────────┼────────────────────┤\n",
            "│ Test    │ 0.5247933884297521 │ 0.8141025641025641 │ 0.6381909547738694 │\n",
            "└─────────┴────────────────────┴────────────────────┴────────────────────┘\n"
          ],
          "name": "stdout"
        },
        {
          "output_type": "display_data",
          "data": {
            "image/png": "[encoded data removed]",
            "text/plain": [
              "<Figure size 432x288 with 2 Axes>"
            ]
          },
          "metadata": {
            "tags": [],
            "needs_background": "light"
          }
        },
        {
          "output_type": "display_data",
          "data": {
            "image/png": "[encoded data removed]",
            "text/plain": [
              "<Figure size 432x288 with 2 Axes>"
            ]
          },
          "metadata": {
            "tags": [],
            "needs_background": "light"
          }
        },
        {
          "output_type": "display_data",
          "data": {
            "image/png": "[encoded data removed]",
            "text/plain": [
              "<Figure size 432x288 with 1 Axes>"
            ]
          },
          "metadata": {
            "tags": [],
            "needs_background": "light"
          }
        },
        {
          "output_type": "display_data",
          "data": {
            "image/png": "[encoded data removed]",
            "text/plain": [
              "<Figure size 1440x360 with 1 Axes>"
            ]
          },
          "metadata": {
            "tags": [],
            "needs_background": "light"
          }
        }
      ]
    },
    {
      "cell_type": "markdown",
      "metadata": {
        "id": "BhwpcY6UK_A8",
        "colab_type": "text"
      },
      "source": [
        "<h2><b>3.5 Linear SVM"
      ]
    },
    {
      "cell_type": "code",
      "metadata": {
        "id": "9M5jFbiMLY6L",
        "colab_type": "code",
        "colab": {
          "base_uri": "https://localhost:8080/",
          "height": 187
        },
        "outputId": "09ec78be-8d5b-4db4-ae4c-828d17fd8c7a"
      },
      "source": [
        "start_time = datetime.now()\n",
        "\n",
        "alpha = [10**x for x in range(-6,1)]\n",
        "regularizer = ['l1','l2']\n",
        "\n",
        "classifier = SGDClassifier(loss='hinge',random_state=42,class_weight='balanced')\n",
        "\n",
        "grid_values = {'alpha':alpha,'penalty':regularizer}\n",
        "\n",
        "randomCV = RandomizedSearchCV(classifier,param_distributions=grid_values,n_iter=6,cv=3,n_jobs=-1,scoring='f1',random_state=42,verbose=10)\n",
        "randomCV.fit(x_train,y_train)\n",
        "\n",
        "print(\"Score from Best params : \" ,randomCV.best_score_)\n",
        "print(\"Best params found : \", randomCV.best_params_)\n",
        "print(\"Time taken to run this cell :\", datetime.now() - start_time)"
      ],
      "execution_count": null,
      "outputs": [
        {
          "output_type": "stream",
          "text": [
            "Fitting 3 folds for each of 6 candidates, totalling 18 fits\n"
          ],
          "name": "stdout"
        },
        {
          "output_type": "stream",
          "text": [
            "[Parallel(n_jobs=-1)]: Using backend LokyBackend with 2 concurrent workers.\n",
            "[Parallel(n_jobs=-1)]: Done   1 tasks      | elapsed:    1.6s\n",
            "[Parallel(n_jobs=-1)]: Done   4 tasks      | elapsed:    3.0s\n",
            "[Parallel(n_jobs=-1)]: Done   9 tasks      | elapsed:   26.9s\n",
            "[Parallel(n_jobs=-1)]: Done  14 tasks      | elapsed:   39.5s\n",
            "[Parallel(n_jobs=-1)]: Done  18 out of  18 | elapsed:  2.5min finished\n"
          ],
          "name": "stderr"
        },
        {
          "output_type": "stream",
          "text": [
            "Score from Best params :  0.4335517824388216\n",
            "Best params found :  {'penalty': 'l1', 'alpha': 1}\n",
            "Time taken to run this cell : 0:03:10.103721\n"
          ],
          "name": "stdout"
        }
      ]
    },
    {
      "cell_type": "code",
      "metadata": {
        "id": "P1k_oIR5O2zr",
        "colab_type": "code",
        "colab": {
          "base_uri": "https://localhost:8080/",
          "height": 1000
        },
        "outputId": "9728596a-d933-44e9-e8bc-bf2bda8823bf"
      },
      "source": [
        "classifier = SGDClassifier(penalty='l1', loss='hinge',alpha=1, random_state=42,class_weight='balanced')\n",
        "classifier.fit(x_train,y_train)\n",
        "\n",
        "print_plot_metrics(classifier,x_train,x_test,y_train,y_test)\n",
        "\n",
        "fig  = plt.figure(figsize=(20,5))\n",
        "plt.bar(feature_names,[abs(num) for num in list(classifier.coef_.flatten())], color ='maroon',  \n",
        "        width = 0.4) \n",
        "  \n",
        "plt.xlabel(\"Features\") \n",
        "plt.ylabel(\"Relative importance\") \n",
        "plt.title(\"Feature Importance of SVM Classifier\") \n",
        "plt.show()"
      ],
      "execution_count": null,
      "outputs": [
        {
          "output_type": "stream",
          "text": [
            "┌─────────┬───────────────────┬────────────────────┬────────────────────┐\n",
            "│ dataset │ Precision         │ Recall             │ F1_Score           │\n",
            "├─────────┼───────────────────┼────────────────────┼────────────────────┤\n",
            "│ Train   │ 0.512396694214876 │ 0.7823343848580442 │ 0.6192259675405742 │\n",
            "├─────────┼───────────────────┼────────────────────┼────────────────────┤\n",
            "│ Test    │               0.5 │ 0.8141025641025641 │ 0.6195121951219512 │\n",
            "└─────────┴───────────────────┴────────────────────┴────────────────────┘\n"
          ],
          "name": "stdout"
        },
        {
          "output_type": "display_data",
          "data": {
            "image/png": "[encoded data removed]",
            "text/plain": [
              "<Figure size 432x288 with 2 Axes>"
            ]
          },
          "metadata": {
            "tags": [],
            "needs_background": "light"
          }
        },
        {
          "output_type": "display_data",
          "data": {
            "image/png": "[encoded data removed]",
            "text/plain": [
              "<Figure size 432x288 with 2 Axes>"
            ]
          },
          "metadata": {
            "tags": [],
            "needs_background": "light"
          }
        },
        {
          "output_type": "display_data",
          "data": {
            "image/png": "[encoded data removed]",
            "text/plain": [
              "<Figure size 432x288 with 1 Axes>"
            ]
          },
          "metadata": {
            "tags": [],
            "needs_background": "light"
          }
        },
        {
          "output_type": "display_data",
          "data": {
            "image/png": "[encoded data removed]",
            "text/plain": [
              "<Figure size 1440x360 with 1 Axes>"
            ]
          },
          "metadata": {
            "tags": [],
            "needs_background": "light"
          }
        }
      ]
    },
    {
      "cell_type": "markdown",
      "metadata": {
        "id": "aN0SsH3DRRYK",
        "colab_type": "text"
      },
      "source": [
        "<h2><b>3.6 RandomForest"
      ]
    },
    {
      "cell_type": "code",
      "metadata": {
        "id": "_dwIvvjERQeI",
        "colab_type": "code",
        "colab": {
          "base_uri": "https://localhost:8080/",
          "height": 513
        },
        "outputId": "67c93cae-cee1-4b3d-ca5d-7be912c88c1f"
      },
      "source": [
        "start_time = datetime.now()\n",
        "\n",
        "n_estimators = [4,8,16,32,64,100,200]\n",
        "max_depth = [2,5,10,15,20,30]\n",
        "max_samples = [0.1,0.2,0.3]\n",
        "min_samples_split = [2,5,10]\n",
        "min_samples_leaf = [1,2,4]\n",
        "max_features = ['sqrt','log2']\n",
        "\n",
        "random_grid = {\n",
        "    'n_estimators':n_estimators,\n",
        "    'max_depth' : max_depth,\n",
        "    'max_samples' : max_samples,\n",
        "    'min_samples_split' : min_samples_split,\n",
        "    'min_samples_leaf' : min_samples_leaf,\n",
        "    'max_features' : max_features\n",
        "}\n",
        "\n",
        "classifier = RandomForestClassifier(class_weight='balanced',n_jobs=-1)\n",
        "\n",
        "randomCV = RandomizedSearchCV(classifier, param_distributions = random_grid, n_iter = 100, cv = 3,scoring = 'f1',n_jobs=-1,verbose\n",
        "=10, random_state=42)\n",
        "\n",
        "randomCV.fit(x_train, y_train)\n",
        "\n",
        "print(\"Score from Best params : \" ,randomCV.best_score_)\n",
        "print(\"Best params found : \", randomCV.best_params_)\n",
        "print(\"Time taken to run this cell :\", datetime.now() - start_time)"
      ],
      "execution_count": null,
      "outputs": [
        {
          "output_type": "stream",
          "text": [
            "Fitting 3 folds for each of 100 candidates, totalling 300 fits\n"
          ],
          "name": "stdout"
        },
        {
          "output_type": "stream",
          "text": [
            "[Parallel(n_jobs=-1)]: Using backend LokyBackend with 2 concurrent workers.\n",
            "[Parallel(n_jobs=-1)]: Done   1 tasks      | elapsed:   23.8s\n",
            "[Parallel(n_jobs=-1)]: Done   4 tasks      | elapsed:   47.5s\n",
            "[Parallel(n_jobs=-1)]: Done   9 tasks      | elapsed:  1.1min\n",
            "[Parallel(n_jobs=-1)]: Done  14 tasks      | elapsed:  1.2min\n",
            "[Parallel(n_jobs=-1)]: Done  21 tasks      | elapsed:  1.6min\n",
            "[Parallel(n_jobs=-1)]: Done  28 tasks      | elapsed:  2.8min\n",
            "[Parallel(n_jobs=-1)]: Done  37 tasks      | elapsed:  3.3min\n",
            "[Parallel(n_jobs=-1)]: Done  46 tasks      | elapsed:  3.8min\n",
            "[Parallel(n_jobs=-1)]: Done  57 tasks      | elapsed:  4.1min\n",
            "[Parallel(n_jobs=-1)]: Done  68 tasks      | elapsed:  6.4min\n",
            "[Parallel(n_jobs=-1)]: Done  81 tasks      | elapsed:  7.4min\n",
            "[Parallel(n_jobs=-1)]: Done  94 tasks      | elapsed:  8.1min\n",
            "[Parallel(n_jobs=-1)]: Done 109 tasks      | elapsed:  8.6min\n",
            "[Parallel(n_jobs=-1)]: Done 124 tasks      | elapsed:  9.1min\n",
            "[Parallel(n_jobs=-1)]: Done 141 tasks      | elapsed: 10.2min\n",
            "[Parallel(n_jobs=-1)]: Done 158 tasks      | elapsed: 11.0min\n",
            "[Parallel(n_jobs=-1)]: Done 177 tasks      | elapsed: 12.3min\n",
            "[Parallel(n_jobs=-1)]: Done 196 tasks      | elapsed: 12.7min\n",
            "[Parallel(n_jobs=-1)]: Done 217 tasks      | elapsed: 13.3min\n",
            "[Parallel(n_jobs=-1)]: Done 238 tasks      | elapsed: 15.8min\n",
            "[Parallel(n_jobs=-1)]: Done 261 tasks      | elapsed: 17.5min\n",
            "[Parallel(n_jobs=-1)]: Done 284 tasks      | elapsed: 18.9min\n",
            "[Parallel(n_jobs=-1)]: Done 300 out of 300 | elapsed: 20.4min finished\n"
          ],
          "name": "stderr"
        },
        {
          "output_type": "stream",
          "text": [
            "Score from Best params :  0.8099981193687918\n",
            "Best params found :  {'n_estimators': 200, 'min_samples_split': 5, 'min_samples_leaf': 4, 'max_samples': 0.3, 'max_features': 'sqrt', 'max_depth': 15}\n",
            "Time taken to run this cell : 0:21:01.999299\n"
          ],
          "name": "stdout"
        }
      ]
    },
    {
      "cell_type": "code",
      "metadata": {
        "colab_type": "code",
        "id": "JX-1v_AgRejr",
        "colab": {
          "base_uri": "https://localhost:8080/",
          "height": 1000
        },
        "outputId": "78b7de48-8ec4-4298-c6ae-396c7729b794"
      },
      "source": [
        "classifier = RandomForestClassifier(class_weight='balanced',n_estimators= 200, min_samples_split= 5, min_samples_leaf = 4, max_samples = 0.3, max_features = 'sqrt', max_depth = 15,n_jobs=-1)\n",
        "classifier.fit(x_train,y_train)\n",
        "\n",
        "print_plot_metrics(classifier,x_train,x_test,y_train,y_test)\n",
        "\n",
        "fig  = plt.figure(figsize=(20,5))\n",
        "plt.bar(feature_names, classifier.feature_importances_, color ='maroon',  \n",
        "        width = 0.4) \n",
        "  \n",
        "plt.xlabel(\"Features\") \n",
        "plt.ylabel(\"Relative importance\") \n",
        "plt.title(\"Feature Importance of RandomForest\") \n",
        "plt.show()"
      ],
      "execution_count": null,
      "outputs": [
        {
          "output_type": "stream",
          "text": [
            "┌─────────┬────────────────────┬───────────────────┬────────────────────┐\n",
            "│ dataset │ Precision          │ Recall            │ F1_Score           │\n",
            "├─────────┼────────────────────┼───────────────────┼────────────────────┤\n",
            "│ Train   │ 0.8823529411764706 │ 0.804416403785489 │ 0.8415841584158417 │\n",
            "├─────────┼────────────────────┼───────────────────┼────────────────────┤\n",
            "│ Test    │ 0.8531468531468531 │ 0.782051282051282 │ 0.8160535117056855 │\n",
            "└─────────┴────────────────────┴───────────────────┴────────────────────┘\n"
          ],
          "name": "stdout"
        },
        {
          "output_type": "display_data",
          "data": {
            "image/png": "[encoded data removed]",
            "text/plain": [
              "<Figure size 432x288 with 2 Axes>"
            ]
          },
          "metadata": {
            "tags": [],
            "needs_background": "light"
          }
        },
        {
          "output_type": "display_data",
          "data": {
            "image/png": "[encoded data removed]",
            "text/plain": [
              "<Figure size 432x288 with 2 Axes>"
            ]
          },
          "metadata": {
            "tags": [],
            "needs_background": "light"
          }
        },
        {
          "output_type": "display_data",
          "data": {
            "image/png": "[encoded data removed]",
            "text/plain": [
              "<Figure size 432x288 with 1 Axes>"
            ]
          },
          "metadata": {
            "tags": [],
            "needs_background": "light"
          }
        },
        {
          "output_type": "display_data",
          "data": {
            "image/png": "[encoded data removed]",
            "text/plain": [
              "<Figure size 1440x360 with 1 Axes>"
            ]
          },
          "metadata": {
            "tags": [],
            "needs_background": "light"
          }
        }
      ]
    },
    {
      "cell_type": "markdown",
      "metadata": {
        "colab_type": "text",
        "id": "91GAR5NbsUEK"
      },
      "source": [
        "<h2><b>3.7 XGBoost"
      ]
    },
    {
      "cell_type": "code",
      "metadata": {
        "colab_type": "code",
        "id": "W81plsIvsUER",
        "colab": {
          "base_uri": "https://localhost:8080/",
          "height": 493
        },
        "outputId": "5f0a7c00-1ef8-46a6-d83e-b1ab236c4d46"
      },
      "source": [
        "start_time = datetime.now()\n",
        "\n",
        "random_grid = {\n",
        "    \"learning_rate\"    : [0.05, 0.10, 0.15, 0.20, 0.25, 0.30 ] ,\n",
        "    \"max_depth\"        : [ 3, 4, 5, 6, 8, 10, 12, 15],\n",
        "    \"min_child_weight\" : [ 1, 3, 5, 7 ],\n",
        "    \"gamma\"            : [ 0.0, 0.1, 0.2 , 0.3, 0.4 ],\n",
        "    \"colsample_bytree\" : [ 0.3, 0.4, 0.5 , 0.7 ]\n",
        "}\n",
        "\n",
        "classifier = XGBClassifier(class_weight='balanced',n_jobs=-1)\n",
        "\n",
        "randomCV = RandomizedSearchCV(classifier, param_distributions = random_grid, n_iter = 50, cv = 3,scoring = 'f1',n_jobs=-1,verbose\n",
        "=10, random_state=42)\n",
        "\n",
        "randomCV.fit(x_train, y_train)\n",
        "\n",
        "print(\"Score from Best params : \" ,randomCV.best_score_)\n",
        "print(\"Best estimator found : \", randomCV.best_estimator_)\n",
        "print(\"Best params found : \", randomCV.best_params_)\n",
        "print(\"Time taken to run this cell :\", datetime.now() - start_time)"
      ],
      "execution_count": null,
      "outputs": [
        {
          "output_type": "stream",
          "text": [
            "Fitting 3 folds for each of 50 candidates, totalling 150 fits\n"
          ],
          "name": "stdout"
        },
        {
          "output_type": "stream",
          "text": [
            "[Parallel(n_jobs=-1)]: Using backend LokyBackend with 2 concurrent workers.\n",
            "[Parallel(n_jobs=-1)]: Done   1 tasks      | elapsed:   26.7s\n",
            "[Parallel(n_jobs=-1)]: Done   4 tasks      | elapsed:  1.3min\n",
            "[Parallel(n_jobs=-1)]: Done   9 tasks      | elapsed:  3.4min\n",
            "[Parallel(n_jobs=-1)]: Done  14 tasks      | elapsed:  5.1min\n",
            "[Parallel(n_jobs=-1)]: Done  21 tasks      | elapsed:  7.8min\n",
            "[Parallel(n_jobs=-1)]: Done  28 tasks      | elapsed:  9.9min\n",
            "[Parallel(n_jobs=-1)]: Done  37 tasks      | elapsed: 12.5min\n",
            "[Parallel(n_jobs=-1)]: Done  46 tasks      | elapsed: 15.1min\n",
            "[Parallel(n_jobs=-1)]: Done  57 tasks      | elapsed: 18.8min\n",
            "[Parallel(n_jobs=-1)]: Done  68 tasks      | elapsed: 22.4min\n",
            "[Parallel(n_jobs=-1)]: Done  81 tasks      | elapsed: 25.6min\n",
            "[Parallel(n_jobs=-1)]: Done  94 tasks      | elapsed: 30.1min\n",
            "[Parallel(n_jobs=-1)]: Done 109 tasks      | elapsed: 35.0min\n",
            "[Parallel(n_jobs=-1)]: Done 124 tasks      | elapsed: 39.1min\n",
            "[Parallel(n_jobs=-1)]: Done 141 tasks      | elapsed: 45.3min\n",
            "[Parallel(n_jobs=-1)]: Done 150 out of 150 | elapsed: 48.4min finished\n"
          ],
          "name": "stderr"
        },
        {
          "output_type": "stream",
          "text": [
            "Score from Best params :  0.8555492887134174\n",
            "Best estimator found :  XGBClassifier(base_score=0.5, booster='gbtree', class_weight='balanced',\n",
            "              colsample_bylevel=1, colsample_bynode=1, colsample_bytree=0.5,\n",
            "              gamma=0.0, learning_rate=0.3, max_delta_step=0, max_depth=8,\n",
            "              min_child_weight=1, missing=None, n_estimators=100, n_jobs=-1,\n",
            "              nthread=None, objective='binary:logistic', random_state=0,\n",
            "              reg_alpha=0, reg_lambda=1, scale_pos_weight=1, seed=None,\n",
            "              silent=None, subsample=1, verbosity=1)\n",
            "Best params found :  {'min_child_weight': 1, 'max_depth': 8, 'learning_rate': 0.3, 'gamma': 0.0, 'colsample_bytree': 0.5}\n",
            "Time taken to run this cell : 0:49:01.085929\n"
          ],
          "name": "stdout"
        }
      ]
    },
    {
      "cell_type": "code",
      "metadata": {
        "colab_type": "code",
        "id": "DFEz8SLlsUEh",
        "colab": {
          "base_uri": "https://localhost:8080/",
          "height": 996
        },
        "outputId": "31491536-ff67-4014-f577-9298cff20ea5"
      },
      "source": [
        "classifier = XGBClassifier(base_score=0.5, booster='gbtree', class_weight='balanced',\n",
        "              colsample_bylevel=1, colsample_bynode=1, colsample_bytree=0.5,\n",
        "              gamma=0.0, learning_rate=0.3, max_delta_step=0, max_depth=8,\n",
        "              min_child_weight=1, missing=None, n_estimators=100, n_jobs=-1,\n",
        "              nthread=None, objective='binary:logistic', random_state=0,\n",
        "              reg_alpha=0, reg_lambda=1, seed=42,\n",
        "              silent=None, subsample=1,scale_pos_weight=587.235294118, verbosity=1)\n",
        "\n",
        "classifier.fit(x_train,y_train)\n",
        "\n",
        "print_plot_metrics(classifier,x_train,x_test,y_train,y_test)"
      ],
      "execution_count": null,
      "outputs": [
        {
          "output_type": "stream",
          "text": [
            "┌─────────┬────────────────────┬────────────────────┬────────────────────┐\n",
            "│ dataset │ Precision          │ Recall             │ F1_Score           │\n",
            "├─────────┼────────────────────┼────────────────────┼────────────────────┤\n",
            "│ Train   │                1.0 │                1.0 │                1.0 │\n",
            "├─────────┼────────────────────┼────────────────────┼────────────────────┤\n",
            "│ Test    │ 0.9197080291970803 │ 0.8076923076923077 │ 0.8600682593856656 │\n",
            "└─────────┴────────────────────┴────────────────────┴────────────────────┘\n"
          ],
          "name": "stdout"
        },
        {
          "output_type": "display_data",
          "data": {
            "image/png": "[encoded data removed]",
            "text/plain": [
              "<Figure size 432x288 with 2 Axes>"
            ]
          },
          "metadata": {
            "tags": [],
            "needs_background": "light"
          }
        },
        {
          "output_type": "display_data",
          "data": {
            "image/png": "[encoded data removed]",
            "text/plain": [
              "<Figure size 432x288 with 2 Axes>"
            ]
          },
          "metadata": {
            "tags": [],
            "needs_background": "light"
          }
        },
        {
          "output_type": "display_data",
          "data": {
            "image/png": "[encoded data removed]",
            "text/plain": [
              "<Figure size 432x288 with 1 Axes>"
            ]
          },
          "metadata": {
            "tags": [],
            "needs_background": "light"
          }
        }
      ]
    },
    {
      "cell_type": "code",
      "metadata": {
        "colab_type": "code",
        "id": "55D5_23-6ZRi",
        "colab": {
          "base_uri": "https://localhost:8080/",
          "height": 1000
        },
        "outputId": "87935ea1-bc7a-4c36-bfe3-9ea771f8dc6b"
      },
      "source": [
        "classifier = XGBClassifier(base_score=0.5, booster='gbtree', class_weight='balanced',\n",
        "              colsample_bylevel=1, colsample_bynode=1, colsample_bytree=0.5,\n",
        "              gamma=0.0, learning_rate=0.3, max_delta_step=0, max_depth=8,\n",
        "              min_child_weight=1, missing=None, n_estimators=100, n_jobs=-1,\n",
        "              nthread=None, objective='binary:logistic', random_state=0,\n",
        "              reg_alpha=0, reg_lambda=1, scale_pos_weight=587.235294118, seed=42,\n",
        "              silent=None, subsample=1, verbosity=1)\n",
        "\n",
        "classifier.fit(x_train,y_train)\n",
        "\n",
        "print_plot_metrics(classifier,x_train,x_test,y_train,y_test)\n",
        "\n",
        "fig  = plt.figure(figsize=(20,5))\n",
        "plt.bar(feature_names, classifier.feature_importances_, color ='maroon',  \n",
        "        width = 0.4) \n",
        "  \n",
        "plt.xlabel(\"Features\") \n",
        "plt.ylabel(\"Relative importance\") \n",
        "plt.title(\"Feature Importance of XGBoost Classifier\") \n",
        "plt.show()"
      ],
      "execution_count": null,
      "outputs": [
        {
          "output_type": "stream",
          "text": [
            "┌─────────┬────────────────────┬────────────────────┬────────────────────┐\n",
            "│ dataset │ Precision          │ Recall             │ F1_Score           │\n",
            "├─────────┼────────────────────┼────────────────────┼────────────────────┤\n",
            "│ Train   │                1.0 │                1.0 │                1.0 │\n",
            "├─────────┼────────────────────┼────────────────────┼────────────────────┤\n",
            "│ Test    │ 0.9097222222222222 │ 0.8397435897435898 │ 0.8733333333333333 │\n",
            "└─────────┴────────────────────┴────────────────────┴────────────────────┘\n"
          ],
          "name": "stdout"
        },
        {
          "output_type": "display_data",
          "data": {
            "image/png": "[encoded data removed]",
            "text/plain": [
              "<Figure size 432x288 with 2 Axes>"
            ]
          },
          "metadata": {
            "tags": [],
            "needs_background": "light"
          }
        },
        {
          "output_type": "display_data",
          "data": {
            "image/png": "[encoded data removed]",
            "text/plain": [
              "<Figure size 432x288 with 2 Axes>"
            ]
          },
          "metadata": {
            "tags": [],
            "needs_background": "light"
          }
        },
        {
          "output_type": "display_data",
          "data": {
            "image/png": "[encoded data removed]",
            "text/plain": [
              "<Figure size 432x288 with 1 Axes>"
            ]
          },
          "metadata": {
            "tags": [],
            "needs_background": "light"
          }
        },
        {
          "output_type": "display_data",
          "data": {
            "image/png": "[encoded data removed]",
            "text/plain": [
              "<Figure size 1440x360 with 1 Axes>"
            ]
          },
          "metadata": {
            "tags": [],
            "needs_background": "light"
          }
        }
      ]
    },
    {
      "cell_type": "markdown",
      "metadata": {
        "id": "8X5hxZGgGuWp",
        "colab_type": "text"
      },
      "source": [
        "<h1><b>4. SUMMARY:"
      ]
    },
    {
      "cell_type": "code",
      "metadata": {
        "id": "SOIUVTOhG0dO",
        "colab_type": "code",
        "colab": {
          "base_uri": "https://localhost:8080/",
          "height": 442
        },
        "outputId": "36fded10-5cf0-4577-d746-5ba97b4e0dff"
      },
      "source": [
        "data = [['Model','dataset','Precision','Recall','F1_Score','AUC-Pre_Recall_Curve','Top 3 features'],\n",
        "  ['Log Reg','Train',0.523,0.782,0.627,0.681,'V14,V17'],\n",
        "  ['','Test',0.524,0.814,0.638,0.641,''],\n",
        "  [],\n",
        "  ['Linear SVM','Train',0.512,0.782,0.619,0.696,'V14,V17'],\n",
        "  ['','Test',0.5,0.814,0.619,0.657,''],\n",
        "  [],\n",
        "  ['Random Forest','Train',0.882, 0.804, 0.841,0.934,'V14,V4,V10'],\n",
        "  ['','Test',0.853, 0.782, 0.816, 0.813,''],\n",
        "  [],\n",
        "  ['XGBOOST','Train',1,1,1,0.999,'V17,V14,V10'],\n",
        "  ['','Test',0.909,0.839,0.873,0.865,'']]\n",
        "\n",
        "print(tabletext.to_text(data))"
      ],
      "execution_count": 8,
      "outputs": [
        {
          "output_type": "stream",
          "text": [
            "┌───────────────┬─────────┬───────────┬────────┬──────────┬──────────────────────┬────────────────┐\n",
            "│ Model         │ dataset │ Precision │ Recall │ F1_Score │ AUC-Pre_Recall_Curve │ Top 3 features │\n",
            "├───────────────┼─────────┼───────────┼────────┼──────────┼──────────────────────┼────────────────┤\n",
            "│ Log Reg       │ Train   │     0.523 │  0.782 │    0.627 │                0.681 │ V14,V17        │\n",
            "├───────────────┼─────────┼───────────┼────────┼──────────┼──────────────────────┼────────────────┤\n",
            "│               │ Test    │     0.524 │  0.814 │    0.638 │                0.641 │                │\n",
            "├───────────────┼─────────┼───────────┼────────┼──────────┼──────────────────────┼────────────────┤\n",
            "│               │         │           │        │          │                      │                │\n",
            "├───────────────┼─────────┼───────────┼────────┼──────────┼──────────────────────┼────────────────┤\n",
            "│ Linear SVM    │ Train   │     0.512 │  0.782 │    0.619 │                0.696 │ V14,V17        │\n",
            "├───────────────┼─────────┼───────────┼────────┼──────────┼──────────────────────┼────────────────┤\n",
            "│               │ Test    │       0.5 │  0.814 │    0.619 │                0.657 │                │\n",
            "├───────────────┼─────────┼───────────┼────────┼──────────┼──────────────────────┼────────────────┤\n",
            "│               │         │           │        │          │                      │                │\n",
            "├───────────────┼─────────┼───────────┼────────┼──────────┼──────────────────────┼────────────────┤\n",
            "│ Random Forest │ Train   │     0.882 │  0.804 │    0.841 │                0.934 │ V14,V4,V10     │\n",
            "├───────────────┼─────────┼───────────┼────────┼──────────┼──────────────────────┼────────────────┤\n",
            "│               │ Test    │     0.853 │  0.782 │    0.816 │                0.813 │                │\n",
            "├───────────────┼─────────┼───────────┼────────┼──────────┼──────────────────────┼────────────────┤\n",
            "│               │         │           │        │          │                      │                │\n",
            "├───────────────┼─────────┼───────────┼────────┼──────────┼──────────────────────┼────────────────┤\n",
            "│ XGBOOST       │ Train   │         1 │      1 │        1 │                0.999 │ V17,V14,V10    │\n",
            "├───────────────┼─────────┼───────────┼────────┼──────────┼──────────────────────┼────────────────┤\n",
            "│               │ Test    │     0.909 │  0.839 │    0.873 │                0.865 │                │\n",
            "└───────────────┴─────────┴───────────┴────────┴──────────┴──────────────────────┴────────────────┘\n"
          ],
          "name": "stdout"
        }
      ]
    },
    {
      "cell_type": "markdown",
      "metadata": {
        "id": "wuUbWRvAMCJP",
        "colab_type": "text"
      },
      "source": [
        "<h1>We can see that the <b>Random Forest</b> perfomed very well compaired to other models."
      ]
    }
  ]
}